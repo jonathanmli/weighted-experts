{
 "cells": [
  {
   "cell_type": "markdown",
   "metadata": {},
   "source": [
    "# Exponential Weighted Experts Prediction"
   ]
  },
  {
   "cell_type": "code",
   "execution_count": null,
   "metadata": {},
   "outputs": [],
   "source": []
  },
  {
   "cell_type": "code",
   "execution_count": 2,
   "metadata": {},
   "outputs": [],
   "source": [
    "# Load libraries\n",
    "import numpy as np\n",
    "import pandas as pd\n",
    "from sklearn.linear_model import LinearRegression\n",
    "import matplotlib"
   ]
  },
  {
   "cell_type": "code",
   "execution_count": 3,
   "metadata": {},
   "outputs": [],
   "source": [
    "# visualization functions\n",
    "def plot_weights(w):\n",
    "    wT = w.dropna().transpose()\n",
    "    wT.sort_values(wT.columns[-1]).tail(10).transpose().plot.line()"
   ]
  },
  {
   "cell_type": "markdown",
   "metadata": {},
   "source": [
    "## Set up\n",
    "\n",
    "All the simulation code can be found in Exponential_Sim.py. Currently we are using single factor OLS regressions (intercept included) as predictors. The program is set up to be able to generalize to any predictive model using object oriented programming by wrapping models in the `Expert` abstract class.\n",
    "\n",
    "The data generation code can be found in DGP.py. \n",
    "\n",
    "\n",
    "However, there appears to be an error generating non-linear returns at the moment -- they seem to be the same as linear returns... \n",
    "\n"
   ]
  },
  {
   "cell_type": "markdown",
   "metadata": {},
   "source": [
    "## Theory\n",
    "\n",
    "The multiplicative weights algorithm gurantees that after $T$ rounds, for any expert $i$, we have \n",
    "\n",
    "$$\\sum^T_{t=1} m^{(t)} \\cdot p^{(t)} \\le \\sum^T_{t=1} m_i^{(t)} + \\eta \\sum^T_{t=1} |m_i^{(t)}| + \\frac{\\ln(n)}{\\eta}$$\n",
    "\n",
    "where $m^{(t)}$ is the vector of costs that were encurred by each of the $n$ experts, where costs are between $[-1,1]$, and $\\eta \\le 0.5$ is the learning rate. Thus, our expected error across the whole sample, $\\sum^T_{t=1} m^{(t)} \\cdot p^{(t)}$, is bounded by the best expert. In this case our expected error is simply $\\frac{RSS}{TSS}$ if we use a squared loss function. Suppose that the $\\frac{RSS}{TSS}$ of the best expert is $0.95$, and we update the weights $60$ times. Then we minimize the upper bound by choosing $\\eta \\approx 0.3$. The exponential weights algorithm has a slightly different bound. All of this can be found in the paper Arora 2012.\n",
    "\n",
    "Unfortunately, the squared loss function does not have range $[-1,1]$ so we need to scale it somehow. Currently we are using an one sided squared arctan function as shown below.\n",
    "\n",
    "$$\\frac{4}{\\pi} \\arctan((\\kappa(\\hat{y}-y))^2)-1$$\n",
    "\n",
    "This function has the nice properties of\n",
    "- producing a cost of -1 when the error is 0\n",
    "- is bounded by 1 when the error is high\n",
    "- has the largest derivative around the root\n",
    "\n",
    "The default is to scale the function parameter $c$ such that the function equals 0 when the absolute prediction error is $0.05$, which is the mean absolute difference of the returns from the mean return. We can tune the hyperparameter $\\kappa$ in our validation set.\n",
    "\n",
    "For each of the $N$ assets, we predict and compute the cost using the cost function, and then sum up the costs instead of summing up the absolute errors first and then passing that through the cost function. We do this to preserve linearity of the costs when updating.\n"
   ]
  },
  {
   "cell_type": "markdown",
   "metadata": {},
   "source": [
    "## Model Variations\n",
    "\n",
    "There are a few parameters to the model that we can change, noted below:\n",
    "- we can choose between using an exponential update method (hedge algorithm) or multiplicative update method\n",
    "    - the exponential method has nicer linear properties with regards to updates (costs are invariant under summation)\n",
    "- we can choose between weighted probability of choosing a model or weighted average, both of which would have the same expected value\n",
    "    - weighted average should minimize volatility and thus increase performance\n",
    "- we can either update the underlying models in an online fashion or use underlying models trained during the burn-in period\n",
    "    - the model should do better if we update the models online too\n",
    "\n",
    "## Problems Encountered\n",
    "- The main problem was that it takes a long time to run simulations. I managed to reduce the time down to 200 seconds per simulation through some micro-optimizations after profiling the code. However, each simulation still takes around 200 seconds currently, which means that running all 200 samples would take around 11 hours. Some things that helped optimize the code included:\n",
    "    - reducing initializations of data structures\n",
    "    - using numpy arrays instead of base python\n",
    "    - reducing type conversions and array access\n",
    "    - reducing redundant data structures\n",
    "- The complexity of the components of the algorithm introduces many possibilities for bugs. Run the unit tests `test_exp_sim.py` first\n"
   ]
  },
  {
   "cell_type": "markdown",
   "metadata": {},
   "source": [
    "## MC Simulation\n",
    "\n",
    "The procedure is as follows:\n",
    "\n",
    "\n",
    "1. Separate the data into three subsamples -- training, validation, and testing\n",
    "1. Train the model on the training set -- thus finding the weights $w_t$. Since the predictions from the underlying models will be horrible without data, we will not update the underlying experts in an online fashion during the training period and instead feed the experts all the data at the start instead.\n",
    "1. Conduct online predictions on validation sample while updating weights and the underlying models based on new and old data. The underlying experts will be updated in an online fashion using the new data during validation. The frequency in which we update the weights and experts is $\\tau$, the update period\n",
    "1. Tune the hyperparameters -- the update period $\\tau$, the learning rate $\\eta$, and the cost scale $\\kappa$ -- based on the validation sample\n",
    "1. Report $R^2$ of model on validation set as IS $R^2$\n",
    "1. Use $w_t$ and underlying models from training to create offline predictions on testing subsample -- ie. do not update underlying model and weights based on new data\n",
    "1. Report $R^2$ of model on testing set as OOS $R^2$\n",
    "1. Report changes in $R^2$ over time of both IS and OOS. This is done by computing the $R^2$ for each period based on the update period, where we use the mean of the returns in the training data in the denominator\n",
    "1. Report changes in weights over time to see the importance of the underlying models over time\n",
    "\n",
    "We run this procedure on each of the 100 MC samples generated and aggregate the following data by taking the mean:\n",
    "- IS validation $R^2$\n",
    "- OOS $R^2$\n",
    "- Weights for all three subsamples\n",
    "- Mean optimal hyperparameters"
   ]
  },
  {
   "cell_type": "markdown",
   "metadata": {},
   "source": [
    "## Summary Statistics\n",
    "\n",
    "Note that we use the mean of the training data in the denominator for any $R^2$ calculations. Also note that we are presenting normalized weights."
   ]
  },
  {
   "cell_type": "code",
   "execution_count": 60,
   "metadata": {},
   "outputs": [],
   "source": [
    "# Load and aggregate data from all 100 MC simulations\n",
    "M = 1\n",
    "M_end = 100\n",
    "Mo = 1\n",
    "MCs = list(range(M+1, M_end+1))\n",
    "path = \"Simu/Simu_100/Reg1/\"\n",
    "modeln = 50\n",
    "\n",
    "\n",
    "isr = pd.read_csv(path + \"ISR/b%d_%d_%d.csv\" % (Mo, M, modeln), header=None)\n",
    "oosr = pd.read_csv(path + \"OOSR/b%d_%d_%d.csv\" % (Mo, M, modeln), header=None)\n",
    "weights = pd.read_csv(path + \"VIP/b%d_%d_%d.csv\" % (Mo, M, modeln), header=None)\n",
    "hyp = pd.read_csv(path + \"HYP/b%d_%d_%d.csv\" % (Mo, M, modeln), header=None)\n",
    "ris = pd.read_csv(path + \"ris_%d_%d.csv\" % (Mo, M), header=None)\n",
    "roos = pd.read_csv(path + \"roos_%d_%d.csv\" % (Mo, M), header=None)\n",
    "\n",
    "# agg across all MCs\n",
    "for M in MCs:\n",
    "    isr += pd.read_csv(path + \"ISR/b%d_%d_%d.csv\" % (Mo, M, modeln), header=None)\n",
    "    oosr += pd.read_csv(path + \"OOSR/b%d_%d_%d.csv\" % (Mo, M, modeln), header=None)\n",
    "    weights += pd.read_csv(path + \"VIP/b%d_%d_%d.csv\" % (Mo, M, modeln), header=None)\n",
    "    hyp += pd.read_csv(path + \"HYP/b%d_%d_%d.csv\" % (Mo, M, modeln), header=None)\n",
    "    ris += pd.read_csv(path + \"ris_%d_%d.csv\" % (Mo, M), header=None)\n",
    "    roos += pd.read_csv(path + \"roos_%d_%d.csv\" % (Mo, M), header=None)\n",
    "\n",
    "# take mean\n",
    "isr /= M_end\n",
    "oosr /= M_end\n",
    "weights /= M_end\n",
    "hyp /= M_end\n",
    "ris /= M_end\n",
    "roos /= M_end\n",
    "\n",
    "weights3 = weights.div(weights.sum(axis=1), axis=0)"
   ]
  },
  {
   "cell_type": "code",
   "execution_count": 21,
   "metadata": {},
   "outputs": [
    {
     "data": {
      "text/html": [
       "<div>\n",
       "<style scoped>\n",
       "    .dataframe tbody tr th:only-of-type {\n",
       "        vertical-align: middle;\n",
       "    }\n",
       "\n",
       "    .dataframe tbody tr th {\n",
       "        vertical-align: top;\n",
       "    }\n",
       "\n",
       "    .dataframe thead th {\n",
       "        text-align: right;\n",
       "    }\n",
       "</style>\n",
       "<table border=\"1\" class=\"dataframe\">\n",
       "  <thead>\n",
       "    <tr style=\"text-align: right;\">\n",
       "      <th></th>\n",
       "      <th>0</th>\n",
       "    </tr>\n",
       "    <tr>\n",
       "      <th>index</th>\n",
       "      <th></th>\n",
       "    </tr>\n",
       "  </thead>\n",
       "  <tbody>\n",
       "    <tr>\n",
       "      <th>ris</th>\n",
       "      <td>0.002024</td>\n",
       "    </tr>\n",
       "    <tr>\n",
       "      <th>roos</th>\n",
       "      <td>0.002367</td>\n",
       "    </tr>\n",
       "    <tr>\n",
       "      <th>avg tau</th>\n",
       "      <td>30.100000</td>\n",
       "    </tr>\n",
       "    <tr>\n",
       "      <th>avg eta</th>\n",
       "      <td>0.491000</td>\n",
       "    </tr>\n",
       "    <tr>\n",
       "      <th>avg kappa</th>\n",
       "      <td>887.000000</td>\n",
       "    </tr>\n",
       "  </tbody>\n",
       "</table>\n",
       "</div>"
      ],
      "text/plain": [
       "                    0\n",
       "index                \n",
       "ris          0.002024\n",
       "roos         0.002367\n",
       "avg tau     30.100000\n",
       "avg eta      0.491000\n",
       "avg kappa  887.000000"
      ]
     },
     "execution_count": 21,
     "metadata": {},
     "output_type": "execute_result"
    }
   ],
   "source": [
    "summary3 = pd.concat([ris, roos, hyp])\n",
    "summary3['index'] = ['ris','roos','avg tau','avg eta', 'avg kappa']\n",
    "summary3.set_index('index', inplace=True)\n",
    "summary3"
   ]
  },
  {
   "cell_type": "code",
   "execution_count": 65,
   "metadata": {},
   "outputs": [
    {
     "data": {
      "image/png": "[encoded data removed]",
      "text/plain": [
       "<Figure size 432x288 with 1 Axes>"
      ]
     },
     "metadata": {
      "needs_background": "light"
     },
     "output_type": "display_data"
    },
    {
     "data": {
      "image/png": "[encoded data removed]",
      "text/plain": [
       "<Figure size 432x288 with 1 Axes>"
      ]
     },
     "metadata": {
      "needs_background": "light"
     },
     "output_type": "display_data"
    },
    {
     "data": {
      "image/png": "[encoded data removed]",
      "text/plain": [
       "<Figure size 432x288 with 1 Axes>"
      ]
     },
     "metadata": {
      "needs_background": "light"
     },
     "output_type": "display_data"
    },
    {
     "data": {
      "image/png": "[encoded data removed]",
      "text/plain": [
       "<Figure size 432x288 with 1 Axes>"
      ]
     },
     "metadata": {
      "needs_background": "light"
     },
     "output_type": "display_data"
    }
   ],
   "source": [
    "isr.plot.line()\n",
    "oosr.plot.line()\n",
    "\n",
    "# lets look at the weights of the top 10 predictors\n",
    "plot_weights(weights3)\n",
    "plot_weights(weights3[:11])"
   ]
  },
  {
   "cell_type": "markdown",
   "metadata": {},
   "source": [
    "## MC for Model 2 (non-linear)"
   ]
  },
  {
   "cell_type": "code",
   "execution_count": 79,
   "metadata": {},
   "outputs": [],
   "source": [
    "# Load and aggregate data from all 100 MC simulations\n",
    "M = 1\n",
    "M_end = 100\n",
    "Mo = 2\n",
    "MCs = list(range(M+1, M_end+1))\n",
    "path = \"Simu/Simu_100/Reg1/\"\n",
    "modeln = 50\n",
    "\n",
    "\n",
    "isr = pd.read_csv(path + \"ISR/b%d_%d_%d.csv\" % (Mo, M, modeln), header=None)\n",
    "oosr = pd.read_csv(path + \"OOSR/b%d_%d_%d.csv\" % (Mo, M, modeln), header=None)\n",
    "weights = pd.read_csv(path + \"VIP/b%d_%d_%d.csv\" % (Mo, M, modeln), header=None)\n",
    "hyp = pd.read_csv(path + \"HYP/b%d_%d_%d.csv\" % (Mo, M, modeln), header=None)\n",
    "ris = pd.read_csv(path + \"ris_%d_%d.csv\" % (Mo, M), header=None)\n",
    "roos = pd.read_csv(path + \"roos_%d_%d.csv\" % (Mo, M), header=None)\n",
    "\n",
    "# agg across all MCs\n",
    "for M in MCs:\n",
    "    isr += pd.read_csv(path + \"ISR/b%d_%d_%d.csv\" % (Mo, M, modeln), header=None)\n",
    "    oosr += pd.read_csv(path + \"OOSR/b%d_%d_%d.csv\" % (Mo, M, modeln), header=None)\n",
    "    weights += pd.read_csv(path + \"VIP/b%d_%d_%d.csv\" % (Mo, M, modeln), header=None)\n",
    "    hyp += pd.read_csv(path + \"HYP/b%d_%d_%d.csv\" % (Mo, M, modeln), header=None)\n",
    "    ris += pd.read_csv(path + \"ris_%d_%d.csv\" % (Mo, M), header=None)\n",
    "    roos += pd.read_csv(path + \"roos_%d_%d.csv\" % (Mo, M), header=None)\n",
    "\n",
    "# take mean\n",
    "isr /= M_end\n",
    "oosr /= M_end\n",
    "weights /= M_end\n",
    "hyp /= M_end\n",
    "ris /= M_end\n",
    "roos /= M_end\n",
    "\n",
    "weights4 = weights.div(weights.sum(axis=1), axis=0)"
   ]
  },
  {
   "cell_type": "code",
   "execution_count": 53,
   "metadata": {},
   "outputs": [
    {
     "data": {
      "text/html": [
       "<div>\n",
       "<style scoped>\n",
       "    .dataframe tbody tr th:only-of-type {\n",
       "        vertical-align: middle;\n",
       "    }\n",
       "\n",
       "    .dataframe tbody tr th {\n",
       "        vertical-align: top;\n",
       "    }\n",
       "\n",
       "    .dataframe thead th {\n",
       "        text-align: right;\n",
       "    }\n",
       "</style>\n",
       "<table border=\"1\" class=\"dataframe\">\n",
       "  <thead>\n",
       "    <tr style=\"text-align: right;\">\n",
       "      <th></th>\n",
       "      <th>0</th>\n",
       "    </tr>\n",
       "    <tr>\n",
       "      <th>index</th>\n",
       "      <th></th>\n",
       "    </tr>\n",
       "  </thead>\n",
       "  <tbody>\n",
       "    <tr>\n",
       "      <th>ris</th>\n",
       "      <td>0.000367</td>\n",
       "    </tr>\n",
       "    <tr>\n",
       "      <th>roos</th>\n",
       "      <td>0.000481</td>\n",
       "    </tr>\n",
       "    <tr>\n",
       "      <th>avg tau</th>\n",
       "      <td>27.150000</td>\n",
       "    </tr>\n",
       "    <tr>\n",
       "      <th>avg eta</th>\n",
       "      <td>0.450000</td>\n",
       "    </tr>\n",
       "    <tr>\n",
       "      <th>avg kappa</th>\n",
       "      <td>850.000000</td>\n",
       "    </tr>\n",
       "  </tbody>\n",
       "</table>\n",
       "</div>"
      ],
      "text/plain": [
       "                    0\n",
       "index                \n",
       "ris          0.000367\n",
       "roos         0.000481\n",
       "avg tau     27.150000\n",
       "avg eta      0.450000\n",
       "avg kappa  850.000000"
      ]
     },
     "execution_count": 53,
     "metadata": {},
     "output_type": "execute_result"
    }
   ],
   "source": [
    "summary4 = pd.concat([ris, roos, hyp])\n",
    "summary4['index'] = ['ris','roos','avg tau','avg eta', 'avg kappa']\n",
    "summary4.set_index('index', inplace=True)\n",
    "summary4"
   ]
  },
  {
   "cell_type": "code",
   "execution_count": 26,
   "metadata": {},
   "outputs": [
    {
     "data": {
      "image/png": "[encoded data removed]",
      "text/plain": [
       "<Figure size 432x288 with 1 Axes>"
      ]
     },
     "metadata": {
      "needs_background": "light"
     },
     "output_type": "display_data"
    },
    {
     "data": {
      "image/png": "[encoded data removed]",
      "text/plain": [
       "<Figure size 432x288 with 1 Axes>"
      ]
     },
     "metadata": {
      "needs_background": "light"
     },
     "output_type": "display_data"
    },
    {
     "data": {
      "image/png": "[encoded data removed]",
      "text/plain": [
       "<Figure size 432x288 with 1 Axes>"
      ]
     },
     "metadata": {
      "needs_background": "light"
     },
     "output_type": "display_data"
    },
    {
     "data": {
      "image/png": "[encoded data removed]",
      "text/plain": [
       "<Figure size 432x288 with 1 Axes>"
      ]
     },
     "metadata": {
      "needs_background": "light"
     },
     "output_type": "display_data"
    }
   ],
   "source": [
    "isr.plot.line()\n",
    "oosr.plot.line()\n",
    "\n",
    "# lets look at the weights of the top 10 predictors\n",
    "plot_weights(weights4)\n",
    "plot_weights(weights4[:11])"
   ]
  },
  {
   "cell_type": "markdown",
   "metadata": {},
   "source": [
    "## Benchmarking\n",
    "\n",
    "We present benchmarking data from the other different models below:\n",
    "\n",
    "<!-- Table of model numbers\n",
    "| Model Number | Description |\n",
    "| --- | ---|\n",
    "|1 | Simple OLS |\n",
    "|2|Simple OLS+H|\n",
    "|3|PCA Regression|\n",
    "|4||\n",
    "|5||\n",
    "|6||\n",
    "|7||\n",
    "|8||\n",
    "|9||\n",
    "|10|| -->"
   ]
  },
  {
   "cell_type": "code",
   "execution_count": 37,
   "metadata": {},
   "outputs": [],
   "source": [
    "# Dictionary of model indices\n",
    "model_indices = {0:\"Simple OlS\", 1:\"Simple OLS+H\", 2:\"PCA Regression\", 3:\"PLS Regression\", 4:\"Lasso\", 5:\"Lasso+H\", 6:\"Ridge\", 7:\"Ridge+H\", 8:\"Enet\", 9:\"Enet+H\", 10:\"Oracle\", 11:\"Group Lasso\", 12:\"Group Lasso+H\",40:\"Weighted Experts\"}"
   ]
  },
  {
   "cell_type": "markdown",
   "metadata": {},
   "source": [
    "### Linear Model"
   ]
  },
  {
   "cell_type": "code",
   "execution_count": 56,
   "metadata": {},
   "outputs": [],
   "source": [
    "# Load and aggregate data from all 100 MC simulations\n",
    "M = 1\n",
    "M_end = 100\n",
    "Mo = 1\n",
    "MCs = list(range(M+1, M_end+1))\n",
    "path = \"Simu/Simu_BM100/Reg1/\"\n",
    "modelns = [5]\n",
    "\n",
    "ris = pd.read_csv(path + \"ris_%d_%d.csv\" % (Mo, M), header=None)\n",
    "roos = pd.read_csv(path + \"roos_%d_%d.csv\" % (Mo, M), header=None)\n",
    "vips = []\n",
    "\n",
    "for i in range(len(modelns)):\n",
    "    vips.append(pd.read_csv(path + \"VIP/b%d_%d_%d.csv\" % (Mo, M, modelns[i]), header=None))\n",
    "\n",
    "# agg across all MCs\n",
    "for M in MCs:\n",
    "    ris += pd.read_csv(path + \"ris_%d_%d.csv\" % (Mo, M), header=None)\n",
    "    roos += pd.read_csv(path + \"roos_%d_%d.csv\" % (Mo, M), header=None)\n",
    "    \n",
    "    for i in range(len(modelns)):\n",
    "        vips[i] += pd.read_csv(path + \"VIP/b%d_%d_%d.csv\" % (Mo, M, modelns[i]), header=None)\n",
    "\n",
    "\n",
    "# take mean\n",
    "ris /= M_end\n",
    "roos /= M_end\n",
    "for i in range(len(modelns)):\n",
    "    vips[i]/= M_end"
   ]
  },
  {
   "cell_type": "markdown",
   "metadata": {},
   "source": [
    "We find that the weighted experts model finds the correct predictors as shown in the importance table according to Lasso+H as shown below:"
   ]
  },
  {
   "cell_type": "code",
   "execution_count": 58,
   "metadata": {},
   "outputs": [
    {
     "data": {
      "text/html": [
       "<div>\n",
       "<style scoped>\n",
       "    .dataframe tbody tr th:only-of-type {\n",
       "        vertical-align: middle;\n",
       "    }\n",
       "\n",
       "    .dataframe tbody tr th {\n",
       "        vertical-align: top;\n",
       "    }\n",
       "\n",
       "    .dataframe thead th {\n",
       "        text-align: right;\n",
       "    }\n",
       "</style>\n",
       "<table border=\"1\" class=\"dataframe\">\n",
       "  <thead>\n",
       "    <tr style=\"text-align: right;\">\n",
       "      <th></th>\n",
       "      <th>0</th>\n",
       "    </tr>\n",
       "  </thead>\n",
       "  <tbody>\n",
       "    <tr>\n",
       "      <th>68</th>\n",
       "      <td>0.000012</td>\n",
       "    </tr>\n",
       "    <tr>\n",
       "      <th>8</th>\n",
       "      <td>0.000013</td>\n",
       "    </tr>\n",
       "    <tr>\n",
       "      <th>63</th>\n",
       "      <td>0.000015</td>\n",
       "    </tr>\n",
       "    <tr>\n",
       "      <th>25</th>\n",
       "      <td>0.000024</td>\n",
       "    </tr>\n",
       "    <tr>\n",
       "      <th>2</th>\n",
       "      <td>0.001791</td>\n",
       "    </tr>\n",
       "    <tr>\n",
       "      <th>50</th>\n",
       "      <td>0.002074</td>\n",
       "    </tr>\n",
       "    <tr>\n",
       "      <th>51</th>\n",
       "      <td>0.002683</td>\n",
       "    </tr>\n",
       "    <tr>\n",
       "      <th>52</th>\n",
       "      <td>0.017228</td>\n",
       "    </tr>\n",
       "    <tr>\n",
       "      <th>1</th>\n",
       "      <td>0.018841</td>\n",
       "    </tr>\n",
       "    <tr>\n",
       "      <th>0</th>\n",
       "      <td>0.019508</td>\n",
       "    </tr>\n",
       "  </tbody>\n",
       "</table>\n",
       "</div>"
      ],
      "text/plain": [
       "           0\n",
       "68  0.000012\n",
       "8   0.000013\n",
       "63  0.000015\n",
       "25  0.000024\n",
       "2   0.001791\n",
       "50  0.002074\n",
       "51  0.002683\n",
       "52  0.017228\n",
       "1   0.018841\n",
       "0   0.019508"
      ]
     },
     "execution_count": 58,
     "metadata": {},
     "output_type": "execute_result"
    }
   ],
   "source": [
    "vips[0].sort_values(0).tail(10)"
   ]
  },
  {
   "cell_type": "code",
   "execution_count": 78,
   "metadata": {},
   "outputs": [
    {
     "data": {
      "text/html": [
       "<div>\n",
       "<style scoped>\n",
       "    .dataframe tbody tr th:only-of-type {\n",
       "        vertical-align: middle;\n",
       "    }\n",
       "\n",
       "    .dataframe tbody tr th {\n",
       "        vertical-align: top;\n",
       "    }\n",
       "\n",
       "    .dataframe thead th {\n",
       "        text-align: right;\n",
       "    }\n",
       "</style>\n",
       "<table border=\"1\" class=\"dataframe\">\n",
       "  <thead>\n",
       "    <tr style=\"text-align: right;\">\n",
       "      <th></th>\n",
       "      <th>11</th>\n",
       "    </tr>\n",
       "  </thead>\n",
       "  <tbody>\n",
       "    <tr>\n",
       "      <th>84</th>\n",
       "      <td>0.009996</td>\n",
       "    </tr>\n",
       "    <tr>\n",
       "      <th>16</th>\n",
       "      <td>0.009996</td>\n",
       "    </tr>\n",
       "    <tr>\n",
       "      <th>29</th>\n",
       "      <td>0.009996</td>\n",
       "    </tr>\n",
       "    <tr>\n",
       "      <th>34</th>\n",
       "      <td>0.009996</td>\n",
       "    </tr>\n",
       "    <tr>\n",
       "      <th>50</th>\n",
       "      <td>0.010034</td>\n",
       "    </tr>\n",
       "    <tr>\n",
       "      <th>51</th>\n",
       "      <td>0.010039</td>\n",
       "    </tr>\n",
       "    <tr>\n",
       "      <th>2</th>\n",
       "      <td>0.010047</td>\n",
       "    </tr>\n",
       "    <tr>\n",
       "      <th>52</th>\n",
       "      <td>0.010089</td>\n",
       "    </tr>\n",
       "    <tr>\n",
       "      <th>0</th>\n",
       "      <td>0.010097</td>\n",
       "    </tr>\n",
       "    <tr>\n",
       "      <th>1</th>\n",
       "      <td>0.010098</td>\n",
       "    </tr>\n",
       "  </tbody>\n",
       "</table>\n",
       "</div>"
      ],
      "text/plain": [
       "          11\n",
       "84  0.009996\n",
       "16  0.009996\n",
       "29  0.009996\n",
       "34  0.009996\n",
       "50  0.010034\n",
       "51  0.010039\n",
       "2   0.010047\n",
       "52  0.010089\n",
       "0   0.010097\n",
       "1   0.010098"
      ]
     },
     "execution_count": 78,
     "metadata": {},
     "output_type": "execute_result"
    }
   ],
   "source": [
    "pd.DataFrame(weights3.loc[11].sort_values().tail(10))"
   ]
  },
  {
   "cell_type": "code",
   "execution_count": 59,
   "metadata": {},
   "outputs": [
    {
     "data": {
      "text/html": [
       "<div>\n",
       "<style scoped>\n",
       "    .dataframe tbody tr th:only-of-type {\n",
       "        vertical-align: middle;\n",
       "    }\n",
       "\n",
       "    .dataframe tbody tr th {\n",
       "        vertical-align: top;\n",
       "    }\n",
       "\n",
       "    .dataframe thead th {\n",
       "        text-align: right;\n",
       "    }\n",
       "</style>\n",
       "<table border=\"1\" class=\"dataframe\">\n",
       "  <thead>\n",
       "    <tr style=\"text-align: right;\">\n",
       "      <th></th>\n",
       "      <th>ris</th>\n",
       "      <th>roos</th>\n",
       "    </tr>\n",
       "    <tr>\n",
       "      <th>names</th>\n",
       "      <th></th>\n",
       "      <th></th>\n",
       "    </tr>\n",
       "  </thead>\n",
       "  <tbody>\n",
       "    <tr>\n",
       "      <th>Simple OlS</th>\n",
       "      <td>0.077320</td>\n",
       "      <td>-0.000596</td>\n",
       "    </tr>\n",
       "    <tr>\n",
       "      <th>Simple OLS+H</th>\n",
       "      <td>0.077174</td>\n",
       "      <td>0.000532</td>\n",
       "    </tr>\n",
       "    <tr>\n",
       "      <th>Weighted Experts</th>\n",
       "      <td>0.002024</td>\n",
       "      <td>0.002367</td>\n",
       "    </tr>\n",
       "    <tr>\n",
       "      <th>PCA Regression</th>\n",
       "      <td>0.029491</td>\n",
       "      <td>0.006698</td>\n",
       "    </tr>\n",
       "    <tr>\n",
       "      <th>PLS Regression</th>\n",
       "      <td>0.064646</td>\n",
       "      <td>0.027531</td>\n",
       "    </tr>\n",
       "    <tr>\n",
       "      <th>Group Lasso</th>\n",
       "      <td>0.063185</td>\n",
       "      <td>0.035620</td>\n",
       "    </tr>\n",
       "    <tr>\n",
       "      <th>Ridge</th>\n",
       "      <td>0.068504</td>\n",
       "      <td>0.035818</td>\n",
       "    </tr>\n",
       "    <tr>\n",
       "      <th>Group Lasso+H</th>\n",
       "      <td>0.062758</td>\n",
       "      <td>0.035952</td>\n",
       "    </tr>\n",
       "    <tr>\n",
       "      <th>Ridge+H</th>\n",
       "      <td>0.068162</td>\n",
       "      <td>0.036087</td>\n",
       "    </tr>\n",
       "    <tr>\n",
       "      <th>Enet</th>\n",
       "      <td>0.069752</td>\n",
       "      <td>0.036103</td>\n",
       "    </tr>\n",
       "    <tr>\n",
       "      <th>Enet+H</th>\n",
       "      <td>0.069420</td>\n",
       "      <td>0.036400</td>\n",
       "    </tr>\n",
       "    <tr>\n",
       "      <th>Lasso</th>\n",
       "      <td>0.065004</td>\n",
       "      <td>0.041609</td>\n",
       "    </tr>\n",
       "    <tr>\n",
       "      <th>Lasso+H</th>\n",
       "      <td>0.064687</td>\n",
       "      <td>0.041724</td>\n",
       "    </tr>\n",
       "    <tr>\n",
       "      <th>Oracle</th>\n",
       "      <td>0.064563</td>\n",
       "      <td>0.052799</td>\n",
       "    </tr>\n",
       "  </tbody>\n",
       "</table>\n",
       "</div>"
      ],
      "text/plain": [
       "                       ris      roos\n",
       "names                               \n",
       "Simple OlS        0.077320 -0.000596\n",
       "Simple OLS+H      0.077174  0.000532\n",
       "Weighted Experts  0.002024  0.002367\n",
       "PCA Regression    0.029491  0.006698\n",
       "PLS Regression    0.064646  0.027531\n",
       "Group Lasso       0.063185  0.035620\n",
       "Ridge             0.068504  0.035818\n",
       "Group Lasso+H     0.062758  0.035952\n",
       "Ridge+H           0.068162  0.036087\n",
       "Enet              0.069752  0.036103\n",
       "Enet+H            0.069420  0.036400\n",
       "Lasso             0.065004  0.041609\n",
       "Lasso+H           0.064687  0.041724\n",
       "Oracle            0.064563  0.052799"
      ]
     },
     "execution_count": 59,
     "metadata": {},
     "output_type": "execute_result"
    }
   ],
   "source": [
    "summary = pd.DataFrame()\n",
    "summary['ris'] = ris[0]\n",
    "summary['roos'] = roos[0]\n",
    "\n",
    "summary = summary.append({\"ris\":summary3.loc[\"ris\"].values[0], \"roos\":summary3.loc[\"roos\"].values[0]}, ignore_index=True)\n",
    "summary['names'] = model_indices.values()\n",
    "\n",
    "summary.set_index('names', inplace=True)\n",
    "summary.sort_values(\"roos\")"
   ]
  },
  {
   "cell_type": "markdown",
   "metadata": {},
   "source": []
  },
  {
   "cell_type": "markdown",
   "metadata": {},
   "source": [
    "### Non-linear Model"
   ]
  },
  {
   "cell_type": "code",
   "execution_count": 54,
   "metadata": {},
   "outputs": [],
   "source": [
    "# Load and aggregate data from all 100 MC simulations\n",
    "M = 1\n",
    "M_end = 100\n",
    "Mo = 2\n",
    "MCs = list(range(M+1, M_end+1))\n",
    "path = \"Simu/Simu_BM100/Reg1/\"\n",
    "modelns = [5]\n",
    "\n",
    "ris = pd.read_csv(path + \"ris_%d_%d.csv\" % (Mo, M), header=None)\n",
    "roos = pd.read_csv(path + \"roos_%d_%d.csv\" % (Mo, M), header=None)\n",
    "vips = []\n",
    "\n",
    "for i in range(len(modelns)):\n",
    "    vips.append(pd.read_csv(path + \"VIP/b%d_%d_%d.csv\" % (Mo, M, modelns[i]), header=None))\n",
    "\n",
    "# agg across all MCs\n",
    "for M in MCs:\n",
    "    ris += pd.read_csv(path + \"ris_%d_%d.csv\" % (Mo, M), header=None)\n",
    "    roos += pd.read_csv(path + \"roos_%d_%d.csv\" % (Mo, M), header=None)\n",
    "    \n",
    "    for i in range(len(modelns)):\n",
    "        vips[i] += pd.read_csv(path + \"VIP/b%d_%d_%d.csv\" % (Mo, M, modelns[i]), header=None)\n",
    "\n",
    "\n",
    "# take mean\n",
    "ris /= M_end\n",
    "roos /= M_end\n",
    "for i in range(len(modelns)):\n",
    "    vips[i]/= M_end"
   ]
  },
  {
   "cell_type": "markdown",
   "metadata": {},
   "source": [
    "The most important variables are shown below. The top six generally match the ones found the by weighted experts algorithm"
   ]
  },
  {
   "cell_type": "code",
   "execution_count": 15,
   "metadata": {},
   "outputs": [
    {
     "data": {
      "text/html": [
       "<div>\n",
       "<style scoped>\n",
       "    .dataframe tbody tr th:only-of-type {\n",
       "        vertical-align: middle;\n",
       "    }\n",
       "\n",
       "    .dataframe tbody tr th {\n",
       "        vertical-align: top;\n",
       "    }\n",
       "\n",
       "    .dataframe thead th {\n",
       "        text-align: right;\n",
       "    }\n",
       "</style>\n",
       "<table border=\"1\" class=\"dataframe\">\n",
       "  <thead>\n",
       "    <tr style=\"text-align: right;\">\n",
       "      <th></th>\n",
       "      <th>0</th>\n",
       "    </tr>\n",
       "  </thead>\n",
       "  <tbody>\n",
       "    <tr>\n",
       "      <th>38</th>\n",
       "      <td>0.000012</td>\n",
       "    </tr>\n",
       "    <tr>\n",
       "      <th>25</th>\n",
       "      <td>0.000014</td>\n",
       "    </tr>\n",
       "    <tr>\n",
       "      <th>62</th>\n",
       "      <td>0.000014</td>\n",
       "    </tr>\n",
       "    <tr>\n",
       "      <th>39</th>\n",
       "      <td>0.000017</td>\n",
       "    </tr>\n",
       "    <tr>\n",
       "      <th>0</th>\n",
       "      <td>0.000531</td>\n",
       "    </tr>\n",
       "    <tr>\n",
       "      <th>1</th>\n",
       "      <td>0.000571</td>\n",
       "    </tr>\n",
       "    <tr>\n",
       "      <th>51</th>\n",
       "      <td>0.000746</td>\n",
       "    </tr>\n",
       "    <tr>\n",
       "      <th>50</th>\n",
       "      <td>0.000830</td>\n",
       "    </tr>\n",
       "    <tr>\n",
       "      <th>2</th>\n",
       "      <td>0.001179</td>\n",
       "    </tr>\n",
       "    <tr>\n",
       "      <th>52</th>\n",
       "      <td>0.008137</td>\n",
       "    </tr>\n",
       "  </tbody>\n",
       "</table>\n",
       "</div>"
      ],
      "text/plain": [
       "           0\n",
       "38  0.000012\n",
       "25  0.000014\n",
       "62  0.000014\n",
       "39  0.000017\n",
       "0   0.000531\n",
       "1   0.000571\n",
       "51  0.000746\n",
       "50  0.000830\n",
       "2   0.001179\n",
       "52  0.008137"
      ]
     },
     "execution_count": 15,
     "metadata": {},
     "output_type": "execute_result"
    }
   ],
   "source": [
    "vips[0].sort_values(0).tail(10)"
   ]
  },
  {
   "cell_type": "code",
   "execution_count": 80,
   "metadata": {},
   "outputs": [
    {
     "data": {
      "text/html": [
       "<div>\n",
       "<style scoped>\n",
       "    .dataframe tbody tr th:only-of-type {\n",
       "        vertical-align: middle;\n",
       "    }\n",
       "\n",
       "    .dataframe tbody tr th {\n",
       "        vertical-align: top;\n",
       "    }\n",
       "\n",
       "    .dataframe thead th {\n",
       "        text-align: right;\n",
       "    }\n",
       "</style>\n",
       "<table border=\"1\" class=\"dataframe\">\n",
       "  <thead>\n",
       "    <tr style=\"text-align: right;\">\n",
       "      <th></th>\n",
       "      <th>11</th>\n",
       "    </tr>\n",
       "  </thead>\n",
       "  <tbody>\n",
       "    <tr>\n",
       "      <th>37</th>\n",
       "      <td>0.009999</td>\n",
       "    </tr>\n",
       "    <tr>\n",
       "      <th>84</th>\n",
       "      <td>0.009999</td>\n",
       "    </tr>\n",
       "    <tr>\n",
       "      <th>81</th>\n",
       "      <td>0.009999</td>\n",
       "    </tr>\n",
       "    <tr>\n",
       "      <th>11</th>\n",
       "      <td>0.009999</td>\n",
       "    </tr>\n",
       "    <tr>\n",
       "      <th>1</th>\n",
       "      <td>0.010006</td>\n",
       "    </tr>\n",
       "    <tr>\n",
       "      <th>0</th>\n",
       "      <td>0.010008</td>\n",
       "    </tr>\n",
       "    <tr>\n",
       "      <th>51</th>\n",
       "      <td>0.010009</td>\n",
       "    </tr>\n",
       "    <tr>\n",
       "      <th>50</th>\n",
       "      <td>0.010009</td>\n",
       "    </tr>\n",
       "    <tr>\n",
       "      <th>2</th>\n",
       "      <td>0.010034</td>\n",
       "    </tr>\n",
       "    <tr>\n",
       "      <th>52</th>\n",
       "      <td>0.010064</td>\n",
       "    </tr>\n",
       "  </tbody>\n",
       "</table>\n",
       "</div>"
      ],
      "text/plain": [
       "          11\n",
       "37  0.009999\n",
       "84  0.009999\n",
       "81  0.009999\n",
       "11  0.009999\n",
       "1   0.010006\n",
       "0   0.010008\n",
       "51  0.010009\n",
       "50  0.010009\n",
       "2   0.010034\n",
       "52  0.010064"
      ]
     },
     "execution_count": 80,
     "metadata": {},
     "output_type": "execute_result"
    }
   ],
   "source": [
    "pd.DataFrame(weights4.loc[11].sort_values().tail(10))"
   ]
  },
  {
   "cell_type": "code",
   "execution_count": 55,
   "metadata": {},
   "outputs": [
    {
     "data": {
      "text/html": [
       "<div>\n",
       "<style scoped>\n",
       "    .dataframe tbody tr th:only-of-type {\n",
       "        vertical-align: middle;\n",
       "    }\n",
       "\n",
       "    .dataframe tbody tr th {\n",
       "        vertical-align: top;\n",
       "    }\n",
       "\n",
       "    .dataframe thead th {\n",
       "        text-align: right;\n",
       "    }\n",
       "</style>\n",
       "<table border=\"1\" class=\"dataframe\">\n",
       "  <thead>\n",
       "    <tr style=\"text-align: right;\">\n",
       "      <th></th>\n",
       "      <th>ris</th>\n",
       "      <th>roos</th>\n",
       "    </tr>\n",
       "    <tr>\n",
       "      <th>names</th>\n",
       "      <th></th>\n",
       "      <th></th>\n",
       "    </tr>\n",
       "  </thead>\n",
       "  <tbody>\n",
       "    <tr>\n",
       "      <th>Simple OlS</th>\n",
       "      <td>0.032638</td>\n",
       "      <td>-0.059176</td>\n",
       "    </tr>\n",
       "    <tr>\n",
       "      <th>Simple OLS+H</th>\n",
       "      <td>0.032483</td>\n",
       "      <td>-0.057873</td>\n",
       "    </tr>\n",
       "    <tr>\n",
       "      <th>PLS Regression</th>\n",
       "      <td>0.009818</td>\n",
       "      <td>-0.004619</td>\n",
       "    </tr>\n",
       "    <tr>\n",
       "      <th>Enet</th>\n",
       "      <td>0.025081</td>\n",
       "      <td>-0.001987</td>\n",
       "    </tr>\n",
       "    <tr>\n",
       "      <th>Enet+H</th>\n",
       "      <td>0.024793</td>\n",
       "      <td>-0.001663</td>\n",
       "    </tr>\n",
       "    <tr>\n",
       "      <th>PCA Regression</th>\n",
       "      <td>0.005633</td>\n",
       "      <td>-0.000887</td>\n",
       "    </tr>\n",
       "    <tr>\n",
       "      <th>Group Lasso</th>\n",
       "      <td>0.032312</td>\n",
       "      <td>-0.000019</td>\n",
       "    </tr>\n",
       "    <tr>\n",
       "      <th>Group Lasso+H</th>\n",
       "      <td>0.031781</td>\n",
       "      <td>0.000093</td>\n",
       "    </tr>\n",
       "    <tr>\n",
       "      <th>Ridge</th>\n",
       "      <td>0.015730</td>\n",
       "      <td>0.000444</td>\n",
       "    </tr>\n",
       "    <tr>\n",
       "      <th>Weighted Experts</th>\n",
       "      <td>0.000367</td>\n",
       "      <td>0.000481</td>\n",
       "    </tr>\n",
       "    <tr>\n",
       "      <th>Ridge+H</th>\n",
       "      <td>0.015493</td>\n",
       "      <td>0.000564</td>\n",
       "    </tr>\n",
       "    <tr>\n",
       "      <th>Lasso</th>\n",
       "      <td>0.012711</td>\n",
       "      <td>0.002429</td>\n",
       "    </tr>\n",
       "    <tr>\n",
       "      <th>Lasso+H</th>\n",
       "      <td>0.012416</td>\n",
       "      <td>0.002546</td>\n",
       "    </tr>\n",
       "    <tr>\n",
       "      <th>Oracle</th>\n",
       "      <td>0.055398</td>\n",
       "      <td>0.054458</td>\n",
       "    </tr>\n",
       "  </tbody>\n",
       "</table>\n",
       "</div>"
      ],
      "text/plain": [
       "                       ris      roos\n",
       "names                               \n",
       "Simple OlS        0.032638 -0.059176\n",
       "Simple OLS+H      0.032483 -0.057873\n",
       "PLS Regression    0.009818 -0.004619\n",
       "Enet              0.025081 -0.001987\n",
       "Enet+H            0.024793 -0.001663\n",
       "PCA Regression    0.005633 -0.000887\n",
       "Group Lasso       0.032312 -0.000019\n",
       "Group Lasso+H     0.031781  0.000093\n",
       "Ridge             0.015730  0.000444\n",
       "Weighted Experts  0.000367  0.000481\n",
       "Ridge+H           0.015493  0.000564\n",
       "Lasso             0.012711  0.002429\n",
       "Lasso+H           0.012416  0.002546\n",
       "Oracle            0.055398  0.054458"
      ]
     },
     "execution_count": 55,
     "metadata": {},
     "output_type": "execute_result"
    }
   ],
   "source": [
    "summary = pd.DataFrame()\n",
    "summary['ris'] = ris[0]\n",
    "summary['roos'] = roos[0]\n",
    "\n",
    "summary = summary.append({\"ris\":summary4.loc[\"ris\"].values[0], \"roos\":summary4.loc[\"roos\"].values[0]}, ignore_index=True)\n",
    "summary['names'] = model_indices.values()\n",
    "\n",
    "summary.set_index('names', inplace=True)\n",
    "summary.sort_values(\"roos\")"
   ]
  },
  {
   "cell_type": "code",
   "execution_count": 22,
   "metadata": {},
   "outputs": [
    {
     "data": {
      "text/plain": [
       "0    0.002024\n",
       "Name: ris, dtype: float64"
      ]
     },
     "execution_count": 22,
     "metadata": {},
     "output_type": "execute_result"
    }
   ],
   "source": []
  },
  {
   "cell_type": "markdown",
   "metadata": {},
   "source": [
    "## Notes\n",
    "- I am very curious about how an essemble model using exponential weighted majority experts would perform, where each expert is a model (such as an OLS model, a Lasso model, etc.), especially when benchmarked in an online fashion\n",
    "- The simulation takes a significant amount of time (> 10 minutes) to run on my computer with just 400 periods\n",
    "- Expanding linear regression tends to perform poorly with many factors probably due to collinearity between factors\n",
    "- What is the optimal learning rate? We can find this theoretically by minimizing the upper bounds of our losses with respect to $\\eta$\n",
    "- There may be a way to \"lasso\" and get rid of irrelevant experts in the prediction. Perhaps there could be a 10 best expert cutoff point. We could also apply some function to the weights that emphasizes the better experts. The bad experts tend to create too much noise in the model\n",
    "- 5 single factor OLS experts + 1 all factors OLS expert seems to perform better than just all factor OLS for the samples I have run\n",
    "- What is the best cost function to use? Currently we are using arctan\n",
    "- The current simulations suggest that the optimal update frequency is the maximum update frequency -- why is it?\n",
    "\n",
    "## References\n",
    "\n",
    "Arora, Sanjeev, Elad Hazan, and Satyen Kale. \"The multiplicative weights update method: a meta-algorithm and applications.\" Theory of Computing 8.1 (2012): 121-164.\n"
   ]
  },
  {
   "cell_type": "markdown",
   "metadata": {},
   "source": [
    "## End of document, scratchwork below"
   ]
  },
  {
   "cell_type": "code",
   "execution_count": 24,
   "metadata": {},
   "outputs": [
    {
     "data": {
      "image/png": "[encoded data removed]",
      "text/plain": [
       "<Figure size 432x288 with 1 Axes>"
      ]
     },
     "metadata": {
      "needs_background": "light"
     },
     "output_type": "display_data"
    }
   ],
   "source": [
    "\n",
    "\n",
    "# weightsT = weights.dropna().transpose()\n",
    "# weightsT.sort_values(weightsT.columns[-1]).tail(10).transpose().plot.line()\n",
    "plot_weights(weights)"
   ]
  },
  {
   "cell_type": "code",
   "execution_count": null,
   "metadata": {},
   "outputs": [],
   "source": []
  },
  {
   "cell_type": "code",
   "execution_count": null,
   "metadata": {},
   "outputs": [],
   "source": []
  },
  {
   "cell_type": "code",
   "execution_count": null,
   "metadata": {},
   "outputs": [],
   "source": []
  },
  {
   "cell_type": "code",
   "execution_count": null,
   "metadata": {},
   "outputs": [],
   "source": []
  },
  {
   "cell_type": "code",
   "execution_count": null,
   "metadata": {},
   "outputs": [],
   "source": []
  },
  {
   "cell_type": "code",
   "execution_count": null,
   "metadata": {},
   "outputs": [],
   "source": []
  },
  {
   "cell_type": "code",
   "execution_count": null,
   "metadata": {},
   "outputs": [],
   "source": []
  },
  {
   "cell_type": "code",
   "execution_count": null,
   "metadata": {},
   "outputs": [],
   "source": []
  },
  {
   "cell_type": "markdown",
   "metadata": {},
   "source": [
    "## Benchmark\n",
    "\n",
    "We can benchmark our $R^2$ against those described in the paper Empircal Asset Pricing by different models such as OLS"
   ]
  },
  {
   "cell_type": "code",
   "execution_count": 3,
   "metadata": {},
   "outputs": [],
   "source": [
    "sum_returns = np.zeros(36000)\n",
    "\n",
    "for M in range(1,101):\n",
    "    r1 = pd.read_csv('Simu/SimuData_100/' + 'r%d_%d_%d.csv' % (1, M, 1),\n",
    "                     delimiter=',').iloc[:, 0].values\n",
    "    sum_returns += r1**2\n",
    "sum_returns = sum_returns/100"
   ]
  },
  {
   "cell_type": "markdown",
   "metadata": {},
   "source": [
    "## Summary Statistics\n",
    "\n",
    "The in sample r squared is shown below. Note that we use the (average) sum of squared returns as the denominator because in practice estimates of the mean of returns tends to be horrible. Also note that we are presenting normalized weights."
   ]
  },
  {
   "cell_type": "code",
   "execution_count": 81,
   "metadata": {},
   "outputs": [
    {
     "name": "stdout",
     "output_type": "stream",
     "text": [
      "IS R Squared 0.0017582031367139317\n",
      "OOS R Squared 0.0016794191175438788\n"
     ]
    },
    {
     "data": {
      "text/plain": [
       "<matplotlib.axes._subplots.AxesSubplot at 0x7facb43d31f0>"
      ]
     },
     "execution_count": 81,
     "metadata": {},
     "output_type": "execute_result"
    },
    {
     "data": {
      "image/png": "[encoded data removed]",
      "text/plain": [
       "<Figure size 432x288 with 1 Axes>"
      ]
     },
     "metadata": {
      "needs_background": "light"
     },
     "output_type": "display_data"
    },
    {
     "data": {
      "image/png": "[encoded data removed]",
      "text/plain": [
       "<Figure size 432x288 with 1 Axes>"
      ]
     },
     "metadata": {
      "needs_background": "light"
     },
     "output_type": "display_data"
    },
    {
     "data": {
      "image/png": "[encoded data removed]",
      "text/plain": [
       "<Figure size 432x288 with 1 Axes>"
      ]
     },
     "metadata": {
      "needs_background": "light"
     },
     "output_type": "display_data"
    }
   ],
   "source": [
    "# Load data from MC simulations\n",
    "isr = pd.read_csv(\"Simu/Simu_100/Reg1/ISR/b1_100_31.csv\", header=None)\n",
    "oosr = pd.read_csv(\"Simu/Simu_100/Reg1/OOSR/b1_100_31.csv\", header=None)\n",
    "weights = pd.read_csv(\"Simu/Simu_100/Reg1/VIP/b1_100_31.csv\", header=None)\n",
    "y = pd.read_csv(\"Simu/SimuData_100/r1_1_1.csv\")\n",
    "weights = weights.div(weights.sum(axis=1), axis=0)\n",
    "\n",
    "# -y.iloc[burn_in:training_stop].mean()\n",
    "\n",
    "R_squared = 1-np.sum(isr.values)/np.sum(sum_returns[12000:24000])\n",
    "print('IS R Squared', R_squared)\n",
    "\n",
    "R_squared = 1-np.sum(oosr.values)/np.sum(sum_returns[24000:36000])\n",
    "print('OOS R Squared', R_squared)\n",
    "\n",
    "isr.rolling(1000).mean().plot.line()\n",
    "oosr.rolling(1000).mean().plot.line()\n",
    "weights.plot.line()\n",
    "\n",
    "\n",
    "# R_squared =  1-np.sum(losses_OOS)/np.sum((y.iloc[training_stop:testing_stop]-y.iloc[training_stop:testing_stop].mean())**2)\n",
    "# print(R_squared)\n",
    "\n",
    "# R_squared = 1-np.sum(losses_IS_B)/np.sum((y.iloc[burn_in:training_stop]-y.iloc[burn_in:training_stop].mean())**2)\n",
    "# print(R_squared)\n",
    "\n",
    "# R_squared = 1-np.sum(losses_OOS_B)/np.sum((y.iloc[burn_in:training_stop]-y.iloc[burn_in:training_stop].mean())**2)\n",
    "# print(R_squared)"
   ]
  },
  {
   "cell_type": "code",
   "execution_count": 2,
   "metadata": {},
   "outputs": [
    {
     "ename": "NameError",
     "evalue": "name 'sum_returns' is not defined",
     "output_type": "error",
     "traceback": [
      "\u001b[0;31m---------------------------------------------------------------------------\u001b[0m",
      "\u001b[0;31mNameError\u001b[0m                                 Traceback (most recent call last)",
      "\u001b[0;32m<ipython-input-2-28b4906c1e94>\u001b[0m in \u001b[0;36m<module>\u001b[0;34m\u001b[0m\n\u001b[1;32m      8\u001b[0m \u001b[0;31m# -y.iloc[burn_in:training_stop].mean()\u001b[0m\u001b[0;34m\u001b[0m\u001b[0;34m\u001b[0m\u001b[0;34m\u001b[0m\u001b[0m\n\u001b[1;32m      9\u001b[0m \u001b[0;34m\u001b[0m\u001b[0m\n\u001b[0;32m---> 10\u001b[0;31m \u001b[0mR_squared\u001b[0m \u001b[0;34m=\u001b[0m \u001b[0;36m1\u001b[0m\u001b[0;34m-\u001b[0m\u001b[0mnp\u001b[0m\u001b[0;34m.\u001b[0m\u001b[0msum\u001b[0m\u001b[0;34m(\u001b[0m\u001b[0misr\u001b[0m\u001b[0;34m.\u001b[0m\u001b[0mvalues\u001b[0m\u001b[0;34m)\u001b[0m\u001b[0;34m/\u001b[0m\u001b[0mnp\u001b[0m\u001b[0;34m.\u001b[0m\u001b[0msum\u001b[0m\u001b[0;34m(\u001b[0m\u001b[0msum_returns\u001b[0m\u001b[0;34m[\u001b[0m\u001b[0;36m12000\u001b[0m\u001b[0;34m:\u001b[0m\u001b[0;36m24000\u001b[0m\u001b[0;34m]\u001b[0m\u001b[0;34m)\u001b[0m\u001b[0;34m\u001b[0m\u001b[0;34m\u001b[0m\u001b[0m\n\u001b[0m\u001b[1;32m     11\u001b[0m \u001b[0mprint\u001b[0m\u001b[0;34m(\u001b[0m\u001b[0;34m'IS R Squared'\u001b[0m\u001b[0;34m,\u001b[0m \u001b[0mR_squared\u001b[0m\u001b[0;34m)\u001b[0m\u001b[0;34m\u001b[0m\u001b[0;34m\u001b[0m\u001b[0m\n\u001b[1;32m     12\u001b[0m \u001b[0;34m\u001b[0m\u001b[0m\n",
      "\u001b[0;31mNameError\u001b[0m: name 'sum_returns' is not defined"
     ]
    }
   ],
   "source": [
    "# Load data from MC simulations\n",
    "isr = pd.read_csv(\"Simu/Simu_100/Reg1/ISR/b1_100_33.csv\", header=None)\n",
    "oosr = pd.read_csv(\"Simu/Simu_100/Reg1/OOSR/b1_100_33.csv\", header=None)\n",
    "weights = pd.read_csv(\"Simu/Simu_100/Reg1/VIP/b1_100_33.csv\", header=None)\n",
    "y = pd.read_csv(\"Simu/SimuData_100/r1_1_1.csv\")\n",
    "weights = weights.div(weights.sum(axis=1), axis=0)\n",
    "\n",
    "# -y.iloc[burn_in:training_stop].mean()\n",
    "\n",
    "R_squared = 1-np.sum(isr.values)/np.sum(sum_returns[12000:24000])\n",
    "print('IS R Squared', R_squared)\n",
    "\n",
    "R_squared = 1-np.sum(oosr.values)/np.sum(sum_returns[24000:36000])\n",
    "print('OOS R Squared', R_squared)\n",
    "\n",
    "isr.rolling(1000).mean().plot.line()\n",
    "oosr.rolling(1000).mean().plot.line()\n",
    "weights.plot.line()\n"
   ]
  },
  {
   "cell_type": "code",
   "execution_count": 24,
   "metadata": {},
   "outputs": [
    {
     "data": {
      "text/plain": [
       "<matplotlib.axes._subplots.AxesSubplot at 0x7fa9961b0550>"
      ]
     },
     "execution_count": 24,
     "metadata": {},
     "output_type": "execute_result"
    },
    {
     "data": {
      "image/png": "[encoded data removed]",
      "text/plain": [
       "<Figure size 432x288 with 1 Axes>"
      ]
     },
     "metadata": {
      "needs_background": "light"
     },
     "output_type": "display_data"
    },
    {
     "data": {
      "image/png": "[encoded data removed]",
      "text/plain": [
       "<Figure size 432x288 with 1 Axes>"
      ]
     },
     "metadata": {
      "needs_background": "light"
     },
     "output_type": "display_data"
    }
   ],
   "source": [
    "modeln = 40\n",
    "\n",
    "# Load data from MC simulations\n",
    "isr = pd.read_csv(\"Simu/Simu_100/Reg1/ISR/b1_1_%d.csv\" % (modeln), header=None)\n",
    "oosr = pd.read_csv(\"Simu/Simu_100/Reg1/OOSR/b1_1_%d.csv\" % (modeln), header=None)\n",
    "weights = pd.read_csv(\"Simu/Simu_100/Reg1/VIP/b1_1_%d.csv\" % (modeln), header=None)\n",
    "y = pd.read_csv(\"Simu/SimuData_100/r1_1_1.csv\")\n",
    "weights = weights.div(weights.sum(axis=1), axis=0)\n",
    "\n",
    "# -y.iloc[burn_in:training_stop].mean()\n",
    "\n",
    "# R_squared = 1-np.sum(isr.values)/np.sum(sum_returns[12000:24000])\n",
    "# print('IS R Squared', R_squared)\n",
    "\n",
    "# R_squared = 1-np.sum(oosr.values)/np.sum(sum_returns[24000:36000])\n",
    "# print('OOS R Squared', R_squared)\n",
    "\n",
    "# isr.rolling(1000).mean().plot.line()\n",
    "oosr.plot.line()\n",
    "# oosr.rolling(1000).mean().plot.line()\n",
    "weights.plot.line()\n"
   ]
  },
  {
   "cell_type": "code",
   "execution_count": 23,
   "metadata": {},
   "outputs": [
    {
     "data": {
      "text/html": [
       "<div>\n",
       "<style scoped>\n",
       "    .dataframe tbody tr th:only-of-type {\n",
       "        vertical-align: middle;\n",
       "    }\n",
       "\n",
       "    .dataframe tbody tr th {\n",
       "        vertical-align: top;\n",
       "    }\n",
       "\n",
       "    .dataframe thead th {\n",
       "        text-align: right;\n",
       "    }\n",
       "</style>\n",
       "<table border=\"1\" class=\"dataframe\">\n",
       "  <thead>\n",
       "    <tr style=\"text-align: right;\">\n",
       "      <th></th>\n",
       "      <th>0</th>\n",
       "      <th>1</th>\n",
       "      <th>2</th>\n",
       "      <th>3</th>\n",
       "      <th>4</th>\n",
       "      <th>5</th>\n",
       "      <th>6</th>\n",
       "      <th>7</th>\n",
       "      <th>8</th>\n",
       "      <th>9</th>\n",
       "      <th>...</th>\n",
       "      <th>91</th>\n",
       "      <th>92</th>\n",
       "      <th>93</th>\n",
       "      <th>94</th>\n",
       "      <th>95</th>\n",
       "      <th>96</th>\n",
       "      <th>97</th>\n",
       "      <th>98</th>\n",
       "      <th>99</th>\n",
       "      <th>100</th>\n",
       "    </tr>\n",
       "  </thead>\n",
       "  <tbody>\n",
       "    <tr>\n",
       "      <th>0</th>\n",
       "      <td>0.009901</td>\n",
       "      <td>0.009901</td>\n",
       "      <td>0.009901</td>\n",
       "      <td>0.009901</td>\n",
       "      <td>0.009901</td>\n",
       "      <td>0.009901</td>\n",
       "      <td>0.009901</td>\n",
       "      <td>0.009901</td>\n",
       "      <td>0.009901</td>\n",
       "      <td>0.009901</td>\n",
       "      <td>...</td>\n",
       "      <td>0.009901</td>\n",
       "      <td>0.009901</td>\n",
       "      <td>0.009901</td>\n",
       "      <td>0.009901</td>\n",
       "      <td>0.009901</td>\n",
       "      <td>0.009901</td>\n",
       "      <td>0.009901</td>\n",
       "      <td>0.009901</td>\n",
       "      <td>0.009901</td>\n",
       "      <td>0.009901</td>\n",
       "    </tr>\n",
       "    <tr>\n",
       "      <th>1</th>\n",
       "      <td>0.009901</td>\n",
       "      <td>0.009901</td>\n",
       "      <td>0.009901</td>\n",
       "      <td>0.009901</td>\n",
       "      <td>0.009901</td>\n",
       "      <td>0.009901</td>\n",
       "      <td>0.009901</td>\n",
       "      <td>0.009901</td>\n",
       "      <td>0.009901</td>\n",
       "      <td>0.009901</td>\n",
       "      <td>...</td>\n",
       "      <td>0.009901</td>\n",
       "      <td>0.009901</td>\n",
       "      <td>0.009901</td>\n",
       "      <td>0.009901</td>\n",
       "      <td>0.009901</td>\n",
       "      <td>0.009901</td>\n",
       "      <td>0.009901</td>\n",
       "      <td>0.009901</td>\n",
       "      <td>0.009901</td>\n",
       "      <td>0.009901</td>\n",
       "    </tr>\n",
       "    <tr>\n",
       "      <th>2</th>\n",
       "      <td>0.009901</td>\n",
       "      <td>0.009901</td>\n",
       "      <td>0.009901</td>\n",
       "      <td>0.009901</td>\n",
       "      <td>0.009901</td>\n",
       "      <td>0.009901</td>\n",
       "      <td>0.009901</td>\n",
       "      <td>0.009901</td>\n",
       "      <td>0.009901</td>\n",
       "      <td>0.009901</td>\n",
       "      <td>...</td>\n",
       "      <td>0.009901</td>\n",
       "      <td>0.009901</td>\n",
       "      <td>0.009901</td>\n",
       "      <td>0.009901</td>\n",
       "      <td>0.009901</td>\n",
       "      <td>0.009901</td>\n",
       "      <td>0.009901</td>\n",
       "      <td>0.009901</td>\n",
       "      <td>0.009901</td>\n",
       "      <td>0.009901</td>\n",
       "    </tr>\n",
       "    <tr>\n",
       "      <th>3</th>\n",
       "      <td>0.009901</td>\n",
       "      <td>0.009901</td>\n",
       "      <td>0.009901</td>\n",
       "      <td>0.009901</td>\n",
       "      <td>0.009901</td>\n",
       "      <td>0.009901</td>\n",
       "      <td>0.009901</td>\n",
       "      <td>0.009901</td>\n",
       "      <td>0.009901</td>\n",
       "      <td>0.009901</td>\n",
       "      <td>...</td>\n",
       "      <td>0.009901</td>\n",
       "      <td>0.009901</td>\n",
       "      <td>0.009901</td>\n",
       "      <td>0.009901</td>\n",
       "      <td>0.009901</td>\n",
       "      <td>0.009901</td>\n",
       "      <td>0.009901</td>\n",
       "      <td>0.009901</td>\n",
       "      <td>0.009901</td>\n",
       "      <td>0.009901</td>\n",
       "    </tr>\n",
       "    <tr>\n",
       "      <th>4</th>\n",
       "      <td>0.009901</td>\n",
       "      <td>0.009901</td>\n",
       "      <td>0.009901</td>\n",
       "      <td>0.009901</td>\n",
       "      <td>0.009901</td>\n",
       "      <td>0.009901</td>\n",
       "      <td>0.009901</td>\n",
       "      <td>0.009901</td>\n",
       "      <td>0.009901</td>\n",
       "      <td>0.009901</td>\n",
       "      <td>...</td>\n",
       "      <td>0.009901</td>\n",
       "      <td>0.009901</td>\n",
       "      <td>0.009901</td>\n",
       "      <td>0.009901</td>\n",
       "      <td>0.009901</td>\n",
       "      <td>0.009901</td>\n",
       "      <td>0.009901</td>\n",
       "      <td>0.009901</td>\n",
       "      <td>0.009901</td>\n",
       "      <td>0.009901</td>\n",
       "    </tr>\n",
       "    <tr>\n",
       "      <th>...</th>\n",
       "      <td>...</td>\n",
       "      <td>...</td>\n",
       "      <td>...</td>\n",
       "      <td>...</td>\n",
       "      <td>...</td>\n",
       "      <td>...</td>\n",
       "      <td>...</td>\n",
       "      <td>...</td>\n",
       "      <td>...</td>\n",
       "      <td>...</td>\n",
       "      <td>...</td>\n",
       "      <td>...</td>\n",
       "      <td>...</td>\n",
       "      <td>...</td>\n",
       "      <td>...</td>\n",
       "      <td>...</td>\n",
       "      <td>...</td>\n",
       "      <td>...</td>\n",
       "      <td>...</td>\n",
       "      <td>...</td>\n",
       "      <td>...</td>\n",
       "    </tr>\n",
       "    <tr>\n",
       "      <th>57</th>\n",
       "      <td>0.009901</td>\n",
       "      <td>0.009901</td>\n",
       "      <td>0.009901</td>\n",
       "      <td>0.009901</td>\n",
       "      <td>0.009901</td>\n",
       "      <td>0.009901</td>\n",
       "      <td>0.009901</td>\n",
       "      <td>0.009901</td>\n",
       "      <td>0.009901</td>\n",
       "      <td>0.009901</td>\n",
       "      <td>...</td>\n",
       "      <td>0.009901</td>\n",
       "      <td>0.009901</td>\n",
       "      <td>0.009901</td>\n",
       "      <td>0.009901</td>\n",
       "      <td>0.009901</td>\n",
       "      <td>0.009901</td>\n",
       "      <td>0.009901</td>\n",
       "      <td>0.009901</td>\n",
       "      <td>0.009901</td>\n",
       "      <td>0.009901</td>\n",
       "    </tr>\n",
       "    <tr>\n",
       "      <th>58</th>\n",
       "      <td>0.009901</td>\n",
       "      <td>0.009901</td>\n",
       "      <td>0.009901</td>\n",
       "      <td>0.009901</td>\n",
       "      <td>0.009901</td>\n",
       "      <td>0.009901</td>\n",
       "      <td>0.009901</td>\n",
       "      <td>0.009901</td>\n",
       "      <td>0.009901</td>\n",
       "      <td>0.009901</td>\n",
       "      <td>...</td>\n",
       "      <td>0.009901</td>\n",
       "      <td>0.009901</td>\n",
       "      <td>0.009901</td>\n",
       "      <td>0.009901</td>\n",
       "      <td>0.009901</td>\n",
       "      <td>0.009901</td>\n",
       "      <td>0.009901</td>\n",
       "      <td>0.009901</td>\n",
       "      <td>0.009901</td>\n",
       "      <td>0.009901</td>\n",
       "    </tr>\n",
       "    <tr>\n",
       "      <th>59</th>\n",
       "      <td>0.009901</td>\n",
       "      <td>0.009901</td>\n",
       "      <td>0.009901</td>\n",
       "      <td>0.009901</td>\n",
       "      <td>0.009901</td>\n",
       "      <td>0.009901</td>\n",
       "      <td>0.009901</td>\n",
       "      <td>0.009901</td>\n",
       "      <td>0.009901</td>\n",
       "      <td>0.009901</td>\n",
       "      <td>...</td>\n",
       "      <td>0.009901</td>\n",
       "      <td>0.009901</td>\n",
       "      <td>0.009901</td>\n",
       "      <td>0.009901</td>\n",
       "      <td>0.009901</td>\n",
       "      <td>0.009901</td>\n",
       "      <td>0.009901</td>\n",
       "      <td>0.009901</td>\n",
       "      <td>0.009901</td>\n",
       "      <td>0.009901</td>\n",
       "    </tr>\n",
       "    <tr>\n",
       "      <th>60</th>\n",
       "      <td>0.009901</td>\n",
       "      <td>0.009901</td>\n",
       "      <td>0.009901</td>\n",
       "      <td>0.009901</td>\n",
       "      <td>0.009901</td>\n",
       "      <td>0.009901</td>\n",
       "      <td>0.009901</td>\n",
       "      <td>0.009901</td>\n",
       "      <td>0.009901</td>\n",
       "      <td>0.009901</td>\n",
       "      <td>...</td>\n",
       "      <td>0.009901</td>\n",
       "      <td>0.009901</td>\n",
       "      <td>0.009901</td>\n",
       "      <td>0.009901</td>\n",
       "      <td>0.009901</td>\n",
       "      <td>0.009901</td>\n",
       "      <td>0.009901</td>\n",
       "      <td>0.009901</td>\n",
       "      <td>0.009901</td>\n",
       "      <td>0.009901</td>\n",
       "    </tr>\n",
       "    <tr>\n",
       "      <th>61</th>\n",
       "      <td>0.009901</td>\n",
       "      <td>0.009901</td>\n",
       "      <td>0.009901</td>\n",
       "      <td>0.009901</td>\n",
       "      <td>0.009901</td>\n",
       "      <td>0.009901</td>\n",
       "      <td>0.009901</td>\n",
       "      <td>0.009901</td>\n",
       "      <td>0.009901</td>\n",
       "      <td>0.009901</td>\n",
       "      <td>...</td>\n",
       "      <td>0.009901</td>\n",
       "      <td>0.009901</td>\n",
       "      <td>0.009901</td>\n",
       "      <td>0.009901</td>\n",
       "      <td>0.009901</td>\n",
       "      <td>0.009901</td>\n",
       "      <td>0.009901</td>\n",
       "      <td>0.009901</td>\n",
       "      <td>0.009901</td>\n",
       "      <td>0.009901</td>\n",
       "    </tr>\n",
       "  </tbody>\n",
       "</table>\n",
       "<p>62 rows × 101 columns</p>\n",
       "</div>"
      ],
      "text/plain": [
       "         0         1         2         3         4         5         6    \\\n",
       "0   0.009901  0.009901  0.009901  0.009901  0.009901  0.009901  0.009901   \n",
       "1   0.009901  0.009901  0.009901  0.009901  0.009901  0.009901  0.009901   \n",
       "2   0.009901  0.009901  0.009901  0.009901  0.009901  0.009901  0.009901   \n",
       "3   0.009901  0.009901  0.009901  0.009901  0.009901  0.009901  0.009901   \n",
       "4   0.009901  0.009901  0.009901  0.009901  0.009901  0.009901  0.009901   \n",
       "..       ...       ...       ...       ...       ...       ...       ...   \n",
       "57  0.009901  0.009901  0.009901  0.009901  0.009901  0.009901  0.009901   \n",
       "58  0.009901  0.009901  0.009901  0.009901  0.009901  0.009901  0.009901   \n",
       "59  0.009901  0.009901  0.009901  0.009901  0.009901  0.009901  0.009901   \n",
       "60  0.009901  0.009901  0.009901  0.009901  0.009901  0.009901  0.009901   \n",
       "61  0.009901  0.009901  0.009901  0.009901  0.009901  0.009901  0.009901   \n",
       "\n",
       "         7         8         9    ...       91        92        93        94   \\\n",
       "0   0.009901  0.009901  0.009901  ...  0.009901  0.009901  0.009901  0.009901   \n",
       "1   0.009901  0.009901  0.009901  ...  0.009901  0.009901  0.009901  0.009901   \n",
       "2   0.009901  0.009901  0.009901  ...  0.009901  0.009901  0.009901  0.009901   \n",
       "3   0.009901  0.009901  0.009901  ...  0.009901  0.009901  0.009901  0.009901   \n",
       "4   0.009901  0.009901  0.009901  ...  0.009901  0.009901  0.009901  0.009901   \n",
       "..       ...       ...       ...  ...       ...       ...       ...       ...   \n",
       "57  0.009901  0.009901  0.009901  ...  0.009901  0.009901  0.009901  0.009901   \n",
       "58  0.009901  0.009901  0.009901  ...  0.009901  0.009901  0.009901  0.009901   \n",
       "59  0.009901  0.009901  0.009901  ...  0.009901  0.009901  0.009901  0.009901   \n",
       "60  0.009901  0.009901  0.009901  ...  0.009901  0.009901  0.009901  0.009901   \n",
       "61  0.009901  0.009901  0.009901  ...  0.009901  0.009901  0.009901  0.009901   \n",
       "\n",
       "         95        96        97        98        99        100  \n",
       "0   0.009901  0.009901  0.009901  0.009901  0.009901  0.009901  \n",
       "1   0.009901  0.009901  0.009901  0.009901  0.009901  0.009901  \n",
       "2   0.009901  0.009901  0.009901  0.009901  0.009901  0.009901  \n",
       "3   0.009901  0.009901  0.009901  0.009901  0.009901  0.009901  \n",
       "4   0.009901  0.009901  0.009901  0.009901  0.009901  0.009901  \n",
       "..       ...       ...       ...       ...       ...       ...  \n",
       "57  0.009901  0.009901  0.009901  0.009901  0.009901  0.009901  \n",
       "58  0.009901  0.009901  0.009901  0.009901  0.009901  0.009901  \n",
       "59  0.009901  0.009901  0.009901  0.009901  0.009901  0.009901  \n",
       "60  0.009901  0.009901  0.009901  0.009901  0.009901  0.009901  \n",
       "61  0.009901  0.009901  0.009901  0.009901  0.009901  0.009901  \n",
       "\n",
       "[62 rows x 101 columns]"
      ]
     },
     "execution_count": 23,
     "metadata": {},
     "output_type": "execute_result"
    }
   ],
   "source": [
    "weights\n",
    "# weights.sum(axis=1)"
   ]
  },
  {
   "cell_type": "markdown",
   "metadata": {},
   "source": []
  },
  {
   "cell_type": "code",
   "execution_count": 53,
   "metadata": {},
   "outputs": [
    {
     "data": {
      "text/html": [
       "<div>\n",
       "<style scoped>\n",
       "    .dataframe tbody tr th:only-of-type {\n",
       "        vertical-align: middle;\n",
       "    }\n",
       "\n",
       "    .dataframe tbody tr th {\n",
       "        vertical-align: top;\n",
       "    }\n",
       "\n",
       "    .dataframe thead th {\n",
       "        text-align: right;\n",
       "    }\n",
       "</style>\n",
       "<table border=\"1\" class=\"dataframe\">\n",
       "  <thead>\n",
       "    <tr style=\"text-align: right;\">\n",
       "      <th></th>\n",
       "      <th>0</th>\n",
       "      <th>1</th>\n",
       "      <th>2</th>\n",
       "      <th>3</th>\n",
       "      <th>4</th>\n",
       "      <th>5</th>\n",
       "      <th>6</th>\n",
       "      <th>7</th>\n",
       "      <th>8</th>\n",
       "      <th>9</th>\n",
       "      <th>...</th>\n",
       "      <th>90</th>\n",
       "      <th>91</th>\n",
       "      <th>92</th>\n",
       "      <th>93</th>\n",
       "      <th>94</th>\n",
       "      <th>95</th>\n",
       "      <th>96</th>\n",
       "      <th>97</th>\n",
       "      <th>98</th>\n",
       "      <th>99</th>\n",
       "    </tr>\n",
       "  </thead>\n",
       "  <tbody>\n",
       "    <tr>\n",
       "      <th>0</th>\n",
       "      <td>1.000000</td>\n",
       "      <td>0.007368</td>\n",
       "      <td>-0.000637</td>\n",
       "      <td>0.019488</td>\n",
       "      <td>0.021121</td>\n",
       "      <td>-0.006630</td>\n",
       "      <td>-0.009388</td>\n",
       "      <td>0.028957</td>\n",
       "      <td>-0.000731</td>\n",
       "      <td>0.011059</td>\n",
       "      <td>...</td>\n",
       "      <td>0.013081</td>\n",
       "      <td>-0.014916</td>\n",
       "      <td>0.007184</td>\n",
       "      <td>-0.027716</td>\n",
       "      <td>-0.010603</td>\n",
       "      <td>-0.000912</td>\n",
       "      <td>-0.008726</td>\n",
       "      <td>-0.031770</td>\n",
       "      <td>-0.005668</td>\n",
       "      <td>-0.003460</td>\n",
       "    </tr>\n",
       "    <tr>\n",
       "      <th>1</th>\n",
       "      <td>0.007368</td>\n",
       "      <td>1.000000</td>\n",
       "      <td>0.021299</td>\n",
       "      <td>0.009921</td>\n",
       "      <td>0.007183</td>\n",
       "      <td>0.013289</td>\n",
       "      <td>-0.022710</td>\n",
       "      <td>0.023558</td>\n",
       "      <td>-0.022396</td>\n",
       "      <td>-0.028767</td>\n",
       "      <td>...</td>\n",
       "      <td>-0.010288</td>\n",
       "      <td>0.017507</td>\n",
       "      <td>0.012600</td>\n",
       "      <td>-0.002737</td>\n",
       "      <td>-0.015570</td>\n",
       "      <td>0.000064</td>\n",
       "      <td>0.007014</td>\n",
       "      <td>0.024311</td>\n",
       "      <td>-0.004863</td>\n",
       "      <td>0.008424</td>\n",
       "    </tr>\n",
       "    <tr>\n",
       "      <th>2</th>\n",
       "      <td>-0.000637</td>\n",
       "      <td>0.021299</td>\n",
       "      <td>1.000000</td>\n",
       "      <td>0.013086</td>\n",
       "      <td>-0.034064</td>\n",
       "      <td>-0.016888</td>\n",
       "      <td>0.043304</td>\n",
       "      <td>-0.000532</td>\n",
       "      <td>0.004087</td>\n",
       "      <td>0.010595</td>\n",
       "      <td>...</td>\n",
       "      <td>0.021983</td>\n",
       "      <td>-0.003500</td>\n",
       "      <td>0.017549</td>\n",
       "      <td>0.012884</td>\n",
       "      <td>-0.020395</td>\n",
       "      <td>0.002209</td>\n",
       "      <td>0.012172</td>\n",
       "      <td>-0.000379</td>\n",
       "      <td>0.014510</td>\n",
       "      <td>0.016728</td>\n",
       "    </tr>\n",
       "    <tr>\n",
       "      <th>3</th>\n",
       "      <td>0.019488</td>\n",
       "      <td>0.009921</td>\n",
       "      <td>0.013086</td>\n",
       "      <td>1.000000</td>\n",
       "      <td>0.007254</td>\n",
       "      <td>0.027920</td>\n",
       "      <td>-0.004540</td>\n",
       "      <td>0.007688</td>\n",
       "      <td>-0.014265</td>\n",
       "      <td>-0.004433</td>\n",
       "      <td>...</td>\n",
       "      <td>-0.009807</td>\n",
       "      <td>-0.016504</td>\n",
       "      <td>-0.001727</td>\n",
       "      <td>-0.010643</td>\n",
       "      <td>-0.011553</td>\n",
       "      <td>-0.011967</td>\n",
       "      <td>-0.036264</td>\n",
       "      <td>-0.015110</td>\n",
       "      <td>0.005292</td>\n",
       "      <td>0.014467</td>\n",
       "    </tr>\n",
       "    <tr>\n",
       "      <th>4</th>\n",
       "      <td>0.021121</td>\n",
       "      <td>0.007183</td>\n",
       "      <td>-0.034064</td>\n",
       "      <td>0.007254</td>\n",
       "      <td>1.000000</td>\n",
       "      <td>-0.016028</td>\n",
       "      <td>-0.058442</td>\n",
       "      <td>0.037972</td>\n",
       "      <td>0.039613</td>\n",
       "      <td>-0.019256</td>\n",
       "      <td>...</td>\n",
       "      <td>-0.020498</td>\n",
       "      <td>-0.002819</td>\n",
       "      <td>0.004107</td>\n",
       "      <td>-0.014859</td>\n",
       "      <td>0.009300</td>\n",
       "      <td>-0.006891</td>\n",
       "      <td>0.006159</td>\n",
       "      <td>-0.028795</td>\n",
       "      <td>0.003736</td>\n",
       "      <td>0.014696</td>\n",
       "    </tr>\n",
       "    <tr>\n",
       "      <th>...</th>\n",
       "      <td>...</td>\n",
       "      <td>...</td>\n",
       "      <td>...</td>\n",
       "      <td>...</td>\n",
       "      <td>...</td>\n",
       "      <td>...</td>\n",
       "      <td>...</td>\n",
       "      <td>...</td>\n",
       "      <td>...</td>\n",
       "      <td>...</td>\n",
       "      <td>...</td>\n",
       "      <td>...</td>\n",
       "      <td>...</td>\n",
       "      <td>...</td>\n",
       "      <td>...</td>\n",
       "      <td>...</td>\n",
       "      <td>...</td>\n",
       "      <td>...</td>\n",
       "      <td>...</td>\n",
       "      <td>...</td>\n",
       "      <td>...</td>\n",
       "    </tr>\n",
       "    <tr>\n",
       "      <th>95</th>\n",
       "      <td>-0.000912</td>\n",
       "      <td>0.000064</td>\n",
       "      <td>0.002209</td>\n",
       "      <td>-0.011967</td>\n",
       "      <td>-0.006891</td>\n",
       "      <td>-0.026586</td>\n",
       "      <td>-0.009703</td>\n",
       "      <td>-0.011379</td>\n",
       "      <td>0.023850</td>\n",
       "      <td>-0.020344</td>\n",
       "      <td>...</td>\n",
       "      <td>0.034039</td>\n",
       "      <td>0.010927</td>\n",
       "      <td>-0.055061</td>\n",
       "      <td>0.023049</td>\n",
       "      <td>0.051537</td>\n",
       "      <td>1.000000</td>\n",
       "      <td>0.014793</td>\n",
       "      <td>0.025929</td>\n",
       "      <td>-0.050829</td>\n",
       "      <td>0.002523</td>\n",
       "    </tr>\n",
       "    <tr>\n",
       "      <th>96</th>\n",
       "      <td>-0.008726</td>\n",
       "      <td>0.007014</td>\n",
       "      <td>0.012172</td>\n",
       "      <td>-0.036264</td>\n",
       "      <td>0.006159</td>\n",
       "      <td>-0.016670</td>\n",
       "      <td>-0.006239</td>\n",
       "      <td>-0.011939</td>\n",
       "      <td>-0.000927</td>\n",
       "      <td>0.019321</td>\n",
       "      <td>...</td>\n",
       "      <td>-0.014027</td>\n",
       "      <td>-0.008919</td>\n",
       "      <td>-0.014319</td>\n",
       "      <td>0.051167</td>\n",
       "      <td>-0.000212</td>\n",
       "      <td>0.014793</td>\n",
       "      <td>1.000000</td>\n",
       "      <td>-0.003120</td>\n",
       "      <td>-0.015137</td>\n",
       "      <td>-0.007784</td>\n",
       "    </tr>\n",
       "    <tr>\n",
       "      <th>97</th>\n",
       "      <td>-0.031770</td>\n",
       "      <td>0.024311</td>\n",
       "      <td>-0.000379</td>\n",
       "      <td>-0.015110</td>\n",
       "      <td>-0.028795</td>\n",
       "      <td>0.010527</td>\n",
       "      <td>-0.019909</td>\n",
       "      <td>0.032931</td>\n",
       "      <td>0.004340</td>\n",
       "      <td>-0.005837</td>\n",
       "      <td>...</td>\n",
       "      <td>-0.001715</td>\n",
       "      <td>-0.025164</td>\n",
       "      <td>0.040223</td>\n",
       "      <td>-0.041856</td>\n",
       "      <td>0.056908</td>\n",
       "      <td>0.025929</td>\n",
       "      <td>-0.003120</td>\n",
       "      <td>1.000000</td>\n",
       "      <td>0.005789</td>\n",
       "      <td>0.029194</td>\n",
       "    </tr>\n",
       "    <tr>\n",
       "      <th>98</th>\n",
       "      <td>-0.005668</td>\n",
       "      <td>-0.004863</td>\n",
       "      <td>0.014510</td>\n",
       "      <td>0.005292</td>\n",
       "      <td>0.003736</td>\n",
       "      <td>-0.011597</td>\n",
       "      <td>0.012216</td>\n",
       "      <td>0.000752</td>\n",
       "      <td>0.017677</td>\n",
       "      <td>0.031393</td>\n",
       "      <td>...</td>\n",
       "      <td>0.008445</td>\n",
       "      <td>0.048145</td>\n",
       "      <td>0.076795</td>\n",
       "      <td>-0.024854</td>\n",
       "      <td>0.014584</td>\n",
       "      <td>-0.050829</td>\n",
       "      <td>-0.015137</td>\n",
       "      <td>0.005789</td>\n",
       "      <td>1.000000</td>\n",
       "      <td>0.004405</td>\n",
       "    </tr>\n",
       "    <tr>\n",
       "      <th>99</th>\n",
       "      <td>-0.003460</td>\n",
       "      <td>0.008424</td>\n",
       "      <td>0.016728</td>\n",
       "      <td>0.014467</td>\n",
       "      <td>0.014696</td>\n",
       "      <td>-0.026313</td>\n",
       "      <td>0.018141</td>\n",
       "      <td>0.012933</td>\n",
       "      <td>-0.007797</td>\n",
       "      <td>-0.017363</td>\n",
       "      <td>...</td>\n",
       "      <td>-0.005930</td>\n",
       "      <td>-0.025192</td>\n",
       "      <td>-0.031958</td>\n",
       "      <td>0.015855</td>\n",
       "      <td>-0.030849</td>\n",
       "      <td>0.002523</td>\n",
       "      <td>-0.007784</td>\n",
       "      <td>0.029194</td>\n",
       "      <td>0.004405</td>\n",
       "      <td>1.000000</td>\n",
       "    </tr>\n",
       "  </tbody>\n",
       "</table>\n",
       "<p>100 rows × 100 columns</p>\n",
       "</div>"
      ],
      "text/plain": [
       "           0         1         2         3         4         5         6  \\\n",
       "0   1.000000  0.007368 -0.000637  0.019488  0.021121 -0.006630 -0.009388   \n",
       "1   0.007368  1.000000  0.021299  0.009921  0.007183  0.013289 -0.022710   \n",
       "2  -0.000637  0.021299  1.000000  0.013086 -0.034064 -0.016888  0.043304   \n",
       "3   0.019488  0.009921  0.013086  1.000000  0.007254  0.027920 -0.004540   \n",
       "4   0.021121  0.007183 -0.034064  0.007254  1.000000 -0.016028 -0.058442   \n",
       "..       ...       ...       ...       ...       ...       ...       ...   \n",
       "95 -0.000912  0.000064  0.002209 -0.011967 -0.006891 -0.026586 -0.009703   \n",
       "96 -0.008726  0.007014  0.012172 -0.036264  0.006159 -0.016670 -0.006239   \n",
       "97 -0.031770  0.024311 -0.000379 -0.015110 -0.028795  0.010527 -0.019909   \n",
       "98 -0.005668 -0.004863  0.014510  0.005292  0.003736 -0.011597  0.012216   \n",
       "99 -0.003460  0.008424  0.016728  0.014467  0.014696 -0.026313  0.018141   \n",
       "\n",
       "           7         8         9  ...        90        91        92        93  \\\n",
       "0   0.028957 -0.000731  0.011059  ...  0.013081 -0.014916  0.007184 -0.027716   \n",
       "1   0.023558 -0.022396 -0.028767  ... -0.010288  0.017507  0.012600 -0.002737   \n",
       "2  -0.000532  0.004087  0.010595  ...  0.021983 -0.003500  0.017549  0.012884   \n",
       "3   0.007688 -0.014265 -0.004433  ... -0.009807 -0.016504 -0.001727 -0.010643   \n",
       "4   0.037972  0.039613 -0.019256  ... -0.020498 -0.002819  0.004107 -0.014859   \n",
       "..       ...       ...       ...  ...       ...       ...       ...       ...   \n",
       "95 -0.011379  0.023850 -0.020344  ...  0.034039  0.010927 -0.055061  0.023049   \n",
       "96 -0.011939 -0.000927  0.019321  ... -0.014027 -0.008919 -0.014319  0.051167   \n",
       "97  0.032931  0.004340 -0.005837  ... -0.001715 -0.025164  0.040223 -0.041856   \n",
       "98  0.000752  0.017677  0.031393  ...  0.008445  0.048145  0.076795 -0.024854   \n",
       "99  0.012933 -0.007797 -0.017363  ... -0.005930 -0.025192 -0.031958  0.015855   \n",
       "\n",
       "          94        95        96        97        98        99  \n",
       "0  -0.010603 -0.000912 -0.008726 -0.031770 -0.005668 -0.003460  \n",
       "1  -0.015570  0.000064  0.007014  0.024311 -0.004863  0.008424  \n",
       "2  -0.020395  0.002209  0.012172 -0.000379  0.014510  0.016728  \n",
       "3  -0.011553 -0.011967 -0.036264 -0.015110  0.005292  0.014467  \n",
       "4   0.009300 -0.006891  0.006159 -0.028795  0.003736  0.014696  \n",
       "..       ...       ...       ...       ...       ...       ...  \n",
       "95  0.051537  1.000000  0.014793  0.025929 -0.050829  0.002523  \n",
       "96 -0.000212  0.014793  1.000000 -0.003120 -0.015137 -0.007784  \n",
       "97  0.056908  0.025929 -0.003120  1.000000  0.005789  0.029194  \n",
       "98  0.014584 -0.050829 -0.015137  0.005789  1.000000  0.004405  \n",
       "99 -0.030849  0.002523 -0.007784  0.029194  0.004405  1.000000  \n",
       "\n",
       "[100 rows x 100 columns]"
      ]
     },
     "execution_count": 53,
     "metadata": {},
     "output_type": "execute_result"
    }
   ],
   "source": [
    "len(losses_OOS)\n",
    "len(y.iloc[training_stop:testing_stop])\n",
    "X.corr()"
   ]
  },
  {
   "cell_type": "markdown",
   "metadata": {},
   "source": [
    "## Non-linear model"
   ]
  },
  {
   "cell_type": "code",
   "execution_count": 8,
   "metadata": {},
   "outputs": [],
   "source": [
    "# Load data\n",
    "X = pd.read_csv(\"Simu/SimuData_100/c1.csv\")\n",
    "y = pd.read_csv(\"Simu/SimuData_100/r2_1_1.csv\")"
   ]
  },
  {
   "cell_type": "code",
   "execution_count": 14,
   "metadata": {},
   "outputs": [],
   "source": [
    "# Start with linear equal weightings \n",
    "weights = np.full(len(models),1)\n",
    "eta = 0.1 # the learning rate\n",
    "burn_in = 50\n",
    "\n",
    "# store data on costs of chosen prediction\n",
    "losses2 = []\n",
    "\n",
    "# Online predictions timewise\n",
    "for t in range(burn_in,500):\n",
    "    \n",
    "    # get predictions\n",
    "    predictions = [m(X.iloc[:t,:],y.iloc[:t],X.iloc[t:t+1,:]) for m in models]\n",
    "    \n",
    "    # choose a prediction randomly according to weights\n",
    "    chosen = np.random.choice(predictions, p = weights/np.sum(weights))\n",
    "    \n",
    "    # alternatively use weighted average\n",
    "#     chosen = np.dot(predictions, weights/np.sum(weights))\n",
    "    \n",
    "    losses2.append(cost(y.iloc[t,0],chosen))\n",
    "    \n",
    "    # update weights using exponential update (hedge algorithm)\n",
    "    weights = [weights[i]*np.exp(-eta * cost(y.iloc[t,0],predictions[i])) for i in range(len(weights))]\n",
    "    \n",
    "    # alternatively update weights using multiplicative weights\n",
    "#     weights = [weights[i]*(1-eta * cost(y.iloc[t,0],predictions[i])) for i in range(len(weights))]"
   ]
  },
  {
   "cell_type": "code",
   "execution_count": 17,
   "metadata": {},
   "outputs": [
    {
     "name": "stdout",
     "output_type": "stream",
     "text": [
      "0    0.987126\n",
      "dtype: float64\n"
     ]
    }
   ],
   "source": [
    "R_squared = 1-np.sum(losses2)/np.sum((y-y.mean())**2)\n",
    "print(R_squared)"
   ]
  },
  {
   "cell_type": "code",
   "execution_count": 16,
   "metadata": {
    "collapsed": true,
    "jupyter": {
     "outputs_hidden": true
    }
   },
   "outputs": [
    {
     "data": {
      "text/plain": [
       "[0.004146702629715354,\n",
       " 0.01674577501629206,\n",
       " 0.0009753033770309526,\n",
       " 0.0011943902478576292,\n",
       " 8.417722718263713e-05,\n",
       " 0.0011660362492935204,\n",
       " 0.0022324467561851153,\n",
       " 0.02285194192741877,\n",
       " 0.001772717402072283,\n",
       " 0.004349611829806382,\n",
       " 1.6863876966656723e-09,\n",
       " 0.0743942183319554,\n",
       " 0.00035723009852048045,\n",
       " 0.00527436395657891,\n",
       " 0.014514891565922568,\n",
       " 0.0029761651083005714,\n",
       " 6.389836752132258e-05,\n",
       " 0.0031881197425641526,\n",
       " 0.001108509388455499,\n",
       " 0.010667854777263208,\n",
       " 0.05916915454830446,\n",
       " 0.00985891916801289,\n",
       " 9.263048713600135e-05,\n",
       " 0.004123225223741411,\n",
       " 0.003209777078913169,\n",
       " 0.0049812042233881824,\n",
       " 7.147686822876122e-05,\n",
       " 0.007193911861117684,\n",
       " 0.009505966072368989,\n",
       " 0.0006328449687311501,\n",
       " 0.0007785102487167106,\n",
       " 0.004232957490568027,\n",
       " 0.00071176789536819,\n",
       " 0.010474729630592039,\n",
       " 0.009357951481642765,\n",
       " 3.97168558479594e-06,\n",
       " 0.017301028183372997,\n",
       " 0.0026280495941823382,\n",
       " 0.020614612123813894,\n",
       " 0.0010205325504537956,\n",
       " 0.0022276224026019087,\n",
       " 0.0011057472636020942,\n",
       " 0.007018173098063463,\n",
       " 0.0021045666419832977,\n",
       " 0.0025499774733801325,\n",
       " 0.0009853066633442244,\n",
       " 3.604287134714577e-05,\n",
       " 0.0007640014342669787,\n",
       " 0.002544222964895047,\n",
       " 0.000889486074639376,\n",
       " 0.020646303915033734,\n",
       " 0.0004254971136899138,\n",
       " 0.0006451689164821911,\n",
       " 0.002844767398529074,\n",
       " 0.0007194998272352926,\n",
       " 0.00031136697755637096,\n",
       " 0.0013312040080446959,\n",
       " 0.0009314730689081764,\n",
       " 0.000489253041189901,\n",
       " 7.454300267864619e-05,\n",
       " 0.0010245429595552287,\n",
       " 0.004718361129378374,\n",
       " 0.0057627043948731745,\n",
       " 0.006900245242317565,\n",
       " 0.015800837831817377,\n",
       " 0.000619281219962034,\n",
       " 0.002333225529993878,\n",
       " 0.001556896587698381,\n",
       " 0.004830817271524886,\n",
       " 0.0028082895056053157,\n",
       " 0.00021235714409236997,\n",
       " 0.01245273984584162,\n",
       " 0.0023425173896206067,\n",
       " 1.2349167497260348e-06,\n",
       " 0.004213720918976528,\n",
       " 6.514918442308612e-05,\n",
       " 0.0006969440654176136,\n",
       " 0.0006538943919276807,\n",
       " 0.00086023290991503,\n",
       " 0.0010296863316412112,\n",
       " 0.0004467760532671872,\n",
       " 0.006758489606531947,\n",
       " 1.9125738633696945e-05,\n",
       " 0.002329339896735222,\n",
       " 1.6680905288717124e-06,\n",
       " 0.002869410262657192,\n",
       " 0.009774832172363109,\n",
       " 0.13168250782440935,\n",
       " 3.0370074705146603e-06,\n",
       " 0.003299458477365634,\n",
       " 0.0005487849058061812,\n",
       " 0.004306052213556292,\n",
       " 5.490180120003943e-06,\n",
       " 0.0010583948368450243,\n",
       " 0.0008132476933054029,\n",
       " 0.0014919290035734767,\n",
       " 0.0006949005230294087,\n",
       " 0.016372260253297004,\n",
       " 0.0004780151868618129,\n",
       " 0.0002109667911528339,\n",
       " 0.0030694468191747905,\n",
       " 0.002691712218140309,\n",
       " 0.008394301372491713,\n",
       " 0.003877596553905112,\n",
       " 0.020121852836986524,\n",
       " 0.00010937817235059392,\n",
       " 0.0011250300044212656,\n",
       " 0.005147341160658331,\n",
       " 0.0020218413301444855,\n",
       " 0.0016726430842051374,\n",
       " 0.003720875671890745,\n",
       " 0.0027064322119438027,\n",
       " 0.0124758235707087,\n",
       " 0.0018983030350377297,\n",
       " 0.012650705848667072,\n",
       " 0.002636034398128353,\n",
       " 0.00012538252103665737,\n",
       " 0.011420660148374688,\n",
       " 0.016937411989391752,\n",
       " 0.004304157079792272,\n",
       " 0.0007659887695104382,\n",
       " 0.003066941078721925,\n",
       " 0.009288316611147806,\n",
       " 0.0014465689803966446,\n",
       " 0.005299256957181418,\n",
       " 4.512204718409921e-05,\n",
       " 0.004304213768420019,\n",
       " 0.002022234511345575,\n",
       " 0.005992187876980779,\n",
       " 3.289448880899356e-05,\n",
       " 0.028776320498909488,\n",
       " 0.003692324243281167,\n",
       " 0.004345619548289855,\n",
       " 0.0003032408216260444,\n",
       " 0.009645572143057664,\n",
       " 0.004427583294941282,\n",
       " 0.0008045664829980683,\n",
       " 0.007057849737010097,\n",
       " 0.01140685867505682,\n",
       " 0.002692135833905816,\n",
       " 5.578332609429677e-05,\n",
       " 2.3627489879536092e-05,\n",
       " 0.0005512986879716456,\n",
       " 0.011213374233274138,\n",
       " 0.012244591382457088,\n",
       " 0.0014326203540010996,\n",
       " 0.00010780832281904128,\n",
       " 3.9276183304220294e-05,\n",
       " 0.00024004684491350602,\n",
       " 0.0033219869696974025,\n",
       " 0.00014982863164518515,\n",
       " 0.011431182741057595,\n",
       " 0.03860758647830308,\n",
       " 8.99647656025086e-06,\n",
       " 0.013192743314655423,\n",
       " 0.00522169306435223,\n",
       " 0.015546395844332617,\n",
       " 0.00035371909155799275,\n",
       " 0.00484599196566696,\n",
       " 0.00027432742990454007,\n",
       " 0.00598827848432865,\n",
       " 0.003703170858514569,\n",
       " 2.3121812500713975e-05,\n",
       " 0.024486314605380945,\n",
       " 6.474513290885081e-05,\n",
       " 0.007980064270007916,\n",
       " 0.0051437629065010995,\n",
       " 0.010960552117946191,\n",
       " 0.00776149613748587,\n",
       " 0.0024903510523603786,\n",
       " 0.0017044878989784572,\n",
       " 0.017771724639755963,\n",
       " 0.009465946274309389,\n",
       " 0.10868224811024074,\n",
       " 5.040597090616137e-05,\n",
       " 0.004924652446668354,\n",
       " 0.00015135833126365017,\n",
       " 0.0020898570618035767,\n",
       " 0.012768644963666802,\n",
       " 0.0003273996569248205,\n",
       " 0.003863701584117038,\n",
       " 0.004400230567276953,\n",
       " 5.186705805575145e-05,\n",
       " 0.00012773012057626167,\n",
       " 0.028196921893637983,\n",
       " 0.0008027014455617037,\n",
       " 0.0008254430704748586,\n",
       " 0.006300587070119179,\n",
       " 8.033288042001191e-06,\n",
       " 0.007686147575669949,\n",
       " 0.021424341898568386,\n",
       " 0.02126053560057527,\n",
       " 0.015005519689755423,\n",
       " 0.06421294835127685,\n",
       " 0.010829183500323141,\n",
       " 0.0011662489248869393,\n",
       " 0.0014356905722544325,\n",
       " 0.0004080901935190357,\n",
       " 8.829964375397396e-05,\n",
       " 0.007450733813397151,\n",
       " 0.00260704865551366,\n",
       " 0.04247435769823254,\n",
       " 0.0022431988305071622,\n",
       " 0.01046503248986856,\n",
       " 0.003441017015212882,\n",
       " 0.003448931880860307,\n",
       " 0.013429515944057172,\n",
       " 0.03036360545801498,\n",
       " 0.0011592686173721182,\n",
       " 0.05977583962434872,\n",
       " 0.00022608827800321005,\n",
       " 0.0005920289608940182,\n",
       " 1.006952287702142e-07,\n",
       " 0.0026395317542325025,\n",
       " 0.004094279517709544,\n",
       " 0.022460289237789168,\n",
       " 0.010233569150442368,\n",
       " 0.0010485320313584523,\n",
       " 0.003001399930511499,\n",
       " 0.0034839230347752724,\n",
       " 0.003910897274310008,\n",
       " 0.0007423734213269906,\n",
       " 0.00037485810675516384,\n",
       " 0.0839796351307018,\n",
       " 0.03794474282118475,\n",
       " 0.01695189638030187,\n",
       " 0.007904073672168358,\n",
       " 0.004168448944132639,\n",
       " 0.009325186484573292,\n",
       " 0.0028612638143468987,\n",
       " 0.020967391577797232,\n",
       " 0.0006559378252562014,\n",
       " 0.00011652797893855488,\n",
       " 0.004584314625563168,\n",
       " 0.0021154912998924166,\n",
       " 1.3919243310569917e-05,\n",
       " 0.00025312525854977587,\n",
       " 0.00497917128810456,\n",
       " 0.015873759673935686,\n",
       " 0.0027774721231905376,\n",
       " 0.008750829267039066,\n",
       " 0.006114863853863494,\n",
       " 0.052779096225067504,\n",
       " 0.00011821122326392087,\n",
       " 0.0010860450278184462,\n",
       " 0.015428495750777713,\n",
       " 0.011497063167114832,\n",
       " 0.001010162326010953,\n",
       " 0.001150243028269139,\n",
       " 0.025117591338338234,\n",
       " 0.0005289526054487058,\n",
       " 0.028845262253971195,\n",
       " 0.001045285097390972,\n",
       " 0.006503441925003571,\n",
       " 0.0008773675691709439,\n",
       " 0.001049560364767098,\n",
       " 0.007407484186975194,\n",
       " 0.011057828031635332,\n",
       " 0.0247295425993969,\n",
       " 0.026251585166294347,\n",
       " 0.017388219050676675,\n",
       " 0.008977572524777143,\n",
       " 0.012268104550653145,\n",
       " 0.011099226624801924,\n",
       " 0.003399632915061901,\n",
       " 0.0018369308743365334,\n",
       " 0.003231755673785506,\n",
       " 0.0063519661125904375,\n",
       " 0.0002212516757329555,\n",
       " 0.020318356064592303,\n",
       " 0.007653199990055592,\n",
       " 0.012989294990592605,\n",
       " 0.010364964923225273,\n",
       " 0.0018072839385676958,\n",
       " 0.002292381342286362,\n",
       " 0.0003787738131267691,\n",
       " 0.003245555200277541,\n",
       " 0.01462051852236703,\n",
       " 0.00035759887192218196,\n",
       " 0.003700334332212648,\n",
       " 3.463423494067398e-05,\n",
       " 0.005696996736606289,\n",
       " 0.0008653283644949628,\n",
       " 0.004290804367639526,\n",
       " 0.0427620116149321,\n",
       " 0.01402576260030263,\n",
       " 0.03288954862487906,\n",
       " 0.0011271972084475532,\n",
       " 0.014254145948642022,\n",
       " 0.009955632781003912,\n",
       " 0.004937244795367331,\n",
       " 0.009748339906786762,\n",
       " 0.01884908748132601,\n",
       " 7.608480752308958e-07,\n",
       " 0.005725073960390988,\n",
       " 5.0528748671832674e-05,\n",
       " 0.004827321084558043,\n",
       " 0.026027591870254132,\n",
       " 0.003113991322172134,\n",
       " 0.0009911162481404177,\n",
       " 0.040775976869668856,\n",
       " 0.007347684540657899,\n",
       " 0.0012617621064388732,\n",
       " 0.002547052409819477,\n",
       " 0.00915592309198963,\n",
       " 0.03216320943725568,\n",
       " 0.006741364148654206,\n",
       " 0.000715448884119288,\n",
       " 0.05542419296843303,\n",
       " 0.009634800931861717,\n",
       " 0.004299652025914092,\n",
       " 0.0004874543569184901,\n",
       " 0.012426134397450763,\n",
       " 0.013329128383989714,\n",
       " 0.0007600779043650171,\n",
       " 0.0037926944197432676,\n",
       " 0.0041412710144569514,\n",
       " 0.0008264551713075651,\n",
       " 0.008044217404352709,\n",
       " 0.002688345040165661,\n",
       " 0.005298516314499401,\n",
       " 0.03772782549218142,\n",
       " 0.007456213052176441,\n",
       " 0.000605034322929638,\n",
       " 0.00010477148987925339,\n",
       " 0.0008295213469228718,\n",
       " 0.0068643902094463185,\n",
       " 0.01080480063877637,\n",
       " 0.0023332911019857943,\n",
       " 0.002367598956965435,\n",
       " 0.007870477268007468,\n",
       " 0.00019473182925797993,\n",
       " 0.023134656705583637,\n",
       " 0.0004387577455960756,\n",
       " 0.008107397108884693,\n",
       " 0.0001644331756928045,\n",
       " 0.0013847320722979836,\n",
       " 0.0011233380667723086,\n",
       " 0.01030052062878586,\n",
       " 0.008215146669849713,\n",
       " 0.015166841848568336,\n",
       " 0.00015546395382831874,\n",
       " 0.0035732171311911565,\n",
       " 0.004064958264709648,\n",
       " 0.004009941259301559,\n",
       " 0.0028847707841088734,\n",
       " 0.006712353952485008,\n",
       " 7.657902852628619e-05,\n",
       " 0.0008367401933181381,\n",
       " 0.009746240180730038,\n",
       " 0.0023160338524584405,\n",
       " 0.0004144447081265822,\n",
       " 0.0008218655632247709,\n",
       " 0.008480354047807994,\n",
       " 0.0014394251298452947,\n",
       " 0.003206032543592725,\n",
       " 0.002318558624843909,\n",
       " 0.008752142394567166,\n",
       " 0.003862508386659428,\n",
       " 0.03429812567246279,\n",
       " 0.00030270710515242587,\n",
       " 0.001457688622937868,\n",
       " 0.003801325675773172,\n",
       " 0.0004030510628808342,\n",
       " 1.3186449157027796e-06,\n",
       " 0.008337094932597813,\n",
       " 0.015426234495762315,\n",
       " 0.005881472800246661,\n",
       " 0.0031003845575219213,\n",
       " 0.0008264351900793151,\n",
       " 0.004687738910071872,\n",
       " 0.00011963445495131206,\n",
       " 9.55147993385037e-05,\n",
       " 0.013459425236134272,\n",
       " 0.026024426938830357,\n",
       " 0.00023400959057732272,\n",
       " 0.0011402056701739626,\n",
       " 0.0049978501203537485,\n",
       " 0.0003595440828756865,\n",
       " 4.6963598026384067e-05,\n",
       " 0.0010353992056602425,\n",
       " 0.004410449393162381,\n",
       " 0.021739992637728803,\n",
       " 0.008394777338273618,\n",
       " 3.97988122611643e-06,\n",
       " 0.003001692637257007,\n",
       " 1.4374674157056517e-05,\n",
       " 0.004822946871655782,\n",
       " 0.00041081913047291983,\n",
       " 0.0011623760517006853,\n",
       " 0.0020971196055493318,\n",
       " 0.0017622575507109258,\n",
       " 0.0003030266410785184,\n",
       " 4.542409544715007e-05,\n",
       " 0.005754698533352537,\n",
       " 0.0027816334282450205,\n",
       " 0.0007590396566179525,\n",
       " 9.620211419208921e-05,\n",
       " 0.00458141493411526,\n",
       " 0.007527722722141471,\n",
       " 0.00211885656238714,\n",
       " 0.020978385432820747,\n",
       " 0.004441069550127076,\n",
       " 3.290350121358868e-05,\n",
       " 0.004322341477600939,\n",
       " 0.0011310236714128221,\n",
       " 0.00029231731899426845,\n",
       " 0.012535391603968377,\n",
       " 1.0210178910047388e-05,\n",
       " 0.02445659415378638,\n",
       " 0.005959187940236154,\n",
       " 0.00878969350698273,\n",
       " 0.0002939321035458117,\n",
       " 0.0010135769020039262,\n",
       " 4.534543405663069e-05,\n",
       " 0.0002759311479089134,\n",
       " 3.289777544572924e-05,\n",
       " 0.0010117033209962342,\n",
       " 0.004293535723005165,\n",
       " 0.0025002088616203045,\n",
       " 0.003089907774551931,\n",
       " 0.009692967165960293,\n",
       " 5.717017653175889e-07,\n",
       " 0.000622843932939098,\n",
       " 0.0003113990236967435,\n",
       " 0.0003824966647295779,\n",
       " 0.007112070035833441,\n",
       " 0.04157792525512097,\n",
       " 0.0016297163230786875,\n",
       " 3.7424367073518784e-05,\n",
       " 0.007585733115127122,\n",
       " 0.003302104720678535,\n",
       " 0.0014957134821019836,\n",
       " 0.0002585365268481924,\n",
       " 0.0001956219626278136,\n",
       " 0.05487474961541701,\n",
       " 0.015717584937940798,\n",
       " 3.3431802589821434e-06,\n",
       " 0.0005691900803617036,\n",
       " 0.0027312760685176338,\n",
       " 0.0022128595699843277,\n",
       " 0.0018482736092465092,\n",
       " 0.0023867623746425437,\n",
       " 0.0018013807682900806,\n",
       " 7.796583968781352e-05,\n",
       " 8.552842345723896e-05,\n",
       " 0.0025981550162891918,\n",
       " 0.001868697803687606,\n",
       " 5.718651476332895e-05,\n",
       " 0.00028951327767236294]"
      ]
     },
     "execution_count": 16,
     "metadata": {},
     "output_type": "execute_result"
    }
   ],
   "source": [
    "losses2"
   ]
  },
  {
   "cell_type": "code",
   "execution_count": null,
   "metadata": {},
   "outputs": [],
   "source": []
  },
  {
   "cell_type": "code",
   "execution_count": 8,
   "metadata": {},
   "outputs": [],
   "source": [
    "pd.DataFrame(losses_IS).to_csv('losses_IS.csv', index = False)"
   ]
  },
  {
   "cell_type": "code",
   "execution_count": 4,
   "metadata": {},
   "outputs": [
    {
     "data": {
      "text/plain": [
       "(36000, 100)"
      ]
     },
     "execution_count": 4,
     "metadata": {},
     "output_type": "execute_result"
    }
   ],
   "source": [
    "X.shape"
   ]
  },
  {
   "cell_type": "code",
   "execution_count": null,
   "metadata": {},
   "outputs": [],
   "source": []
  },
  {
   "cell_type": "code",
   "execution_count": null,
   "metadata": {},
   "outputs": [],
   "source": []
  },
  {
   "cell_type": "code",
   "execution_count": 4,
   "metadata": {},
   "outputs": [],
   "source": [
    "a = np.array([[2,3],[4,5]])"
   ]
  },
  {
   "cell_type": "code",
   "execution_count": 5,
   "metadata": {},
   "outputs": [
    {
     "data": {
      "text/plain": [
       "array([[0.66666667, 1.        ],\n",
       "       [1.33333333, 1.66666667]])"
      ]
     },
     "execution_count": 5,
     "metadata": {},
     "output_type": "execute_result"
    }
   ],
   "source": [
    "a/3"
   ]
  },
  {
   "cell_type": "code",
   "execution_count": 6,
   "metadata": {},
   "outputs": [],
   "source": [
    "a[1][1] += 9"
   ]
  },
  {
   "cell_type": "code",
   "execution_count": 7,
   "metadata": {},
   "outputs": [
    {
     "data": {
      "text/plain": [
       "array([[ 2,  3],\n",
       "       [ 4, 14]])"
      ]
     },
     "execution_count": 7,
     "metadata": {},
     "output_type": "execute_result"
    }
   ],
   "source": [
    "a"
   ]
  },
  {
   "cell_type": "code",
   "execution_count": 8,
   "metadata": {},
   "outputs": [
    {
     "data": {
      "text/plain": [
       "array([ 4, 14])"
      ]
     },
     "execution_count": 8,
     "metadata": {},
     "output_type": "execute_result"
    }
   ],
   "source": [
    "a[1]"
   ]
  },
  {
   "cell_type": "code",
   "execution_count": 10,
   "metadata": {},
   "outputs": [
    {
     "data": {
      "text/plain": [
       "array([ 3, 14])"
      ]
     },
     "execution_count": 10,
     "metadata": {},
     "output_type": "execute_result"
    }
   ],
   "source": [
    "a[:,1]"
   ]
  },
  {
   "cell_type": "code",
   "execution_count": 15,
   "metadata": {},
   "outputs": [],
   "source": [
    "b = np.array(1)"
   ]
  },
  {
   "cell_type": "code",
   "execution_count": 12,
   "metadata": {},
   "outputs": [
    {
     "data": {
      "text/plain": [
       "array(1)"
      ]
     },
     "execution_count": 12,
     "metadata": {},
     "output_type": "execute_result"
    }
   ],
   "source": [
    "b"
   ]
  },
  {
   "cell_type": "code",
   "execution_count": 14,
   "metadata": {},
   "outputs": [
    {
     "data": {
      "text/plain": [
       "array([1])"
      ]
     },
     "execution_count": 14,
     "metadata": {},
     "output_type": "execute_result"
    }
   ],
   "source": [
    "b"
   ]
  },
  {
   "cell_type": "code",
   "execution_count": 19,
   "metadata": {},
   "outputs": [
    {
     "data": {
      "text/plain": [
       "array([[14]])"
      ]
     },
     "execution_count": 19,
     "metadata": {},
     "output_type": "execute_result"
    }
   ],
   "source": [
    "a[1][1].reshape(-1, 1)"
   ]
  },
  {
   "cell_type": "code",
   "execution_count": 24,
   "metadata": {},
   "outputs": [
    {
     "data": {
      "text/plain": [
       "[(0, 0),\n",
       " (0, 1),\n",
       " (0, 2),\n",
       " (1, 0),\n",
       " (1, 1),\n",
       " (1, 2),\n",
       " (2, 0),\n",
       " (2, 1),\n",
       " (2, 2),\n",
       " (3, 0),\n",
       " (3, 1),\n",
       " (3, 2)]"
      ]
     },
     "execution_count": 24,
     "metadata": {},
     "output_type": "execute_result"
    }
   ],
   "source": [
    "[(i,j) for i in range(4) for j in range(3)]"
   ]
  },
  {
   "cell_type": "code",
   "execution_count": 2,
   "metadata": {},
   "outputs": [],
   "source": [
    "c = np.zeros((20,5))"
   ]
  },
  {
   "cell_type": "code",
   "execution_count": 5,
   "metadata": {},
   "outputs": [],
   "source": [
    "c[1] += [1,2,3,4,5]"
   ]
  },
  {
   "cell_type": "code",
   "execution_count": 10,
   "metadata": {},
   "outputs": [
    {
     "data": {
      "text/plain": [
       "array([[0., 0., 0., 0., 0.],\n",
       "       [1., 2., 3., 4., 5.],\n",
       "       [0., 0., 0., 0., 0.],\n",
       "       [0., 0., 0., 0., 0.],\n",
       "       [0., 0., 0., 0., 0.],\n",
       "       [0., 0., 0., 0., 0.],\n",
       "       [0., 0., 0., 0., 0.],\n",
       "       [0., 0., 0., 0., 0.],\n",
       "       [0., 0., 0., 0., 0.],\n",
       "       [0., 0., 0., 0., 0.],\n",
       "       [0., 0., 0., 0., 0.],\n",
       "       [0., 0., 0., 0., 0.],\n",
       "       [0., 0., 0., 0., 0.],\n",
       "       [0., 0., 0., 0., 0.],\n",
       "       [0., 0., 0., 0., 0.],\n",
       "       [0., 0., 0., 0., 0.],\n",
       "       [0., 0., 0., 0., 0.],\n",
       "       [0., 0., 0., 0., 0.],\n",
       "       [0., 0., 0., 0., 0.],\n",
       "       [0., 0., 0., 0., 0.]])"
      ]
     },
     "execution_count": 10,
     "metadata": {},
     "output_type": "execute_result"
    }
   ],
   "source": [
    "c"
   ]
  },
  {
   "cell_type": "code",
   "execution_count": 6,
   "metadata": {},
   "outputs": [
    {
     "data": {
      "text/plain": [
       "array([0., 3., 0., 0., 0., 0., 0., 0., 0., 0., 0., 0., 0., 0., 0., 0., 0.,\n",
       "       0., 0., 0.])"
      ]
     },
     "execution_count": 6,
     "metadata": {},
     "output_type": "execute_result"
    }
   ],
   "source": [
    "c[:,2]"
   ]
  },
  {
   "cell_type": "code",
   "execution_count": 7,
   "metadata": {},
   "outputs": [
    {
     "data": {
      "text/plain": [
       "array([[0., 0., 0., 0., 0.],\n",
       "       [1., 2., 3., 4., 5.],\n",
       "       [0., 0., 0., 0., 0.],\n",
       "       [0., 0., 0., 0., 0.],\n",
       "       [0., 0., 0., 0., 0.],\n",
       "       [0., 0., 0., 0., 0.],\n",
       "       [0., 0., 0., 0., 0.],\n",
       "       [0., 0., 0., 0., 0.],\n",
       "       [0., 0., 0., 0., 0.],\n",
       "       [0., 0., 0., 0., 0.],\n",
       "       [0., 0., 0., 0., 0.],\n",
       "       [0., 0., 0., 0., 0.],\n",
       "       [0., 0., 0., 0., 0.],\n",
       "       [0., 0., 0., 0., 0.],\n",
       "       [0., 0., 0., 0., 0.],\n",
       "       [0., 0., 0., 0., 0.],\n",
       "       [0., 0., 0., 0., 0.],\n",
       "       [0., 0., 0., 0., 0.],\n",
       "       [0., 0., 0., 0., 0.],\n",
       "       [0., 0., 0., 0., 0.]])"
      ]
     },
     "execution_count": 7,
     "metadata": {},
     "output_type": "execute_result"
    }
   ],
   "source": [
    "c"
   ]
  },
  {
   "cell_type": "code",
   "execution_count": 10,
   "metadata": {},
   "outputs": [],
   "source": [
    "a = np.array([[2,3],[4,5],[5,6]])"
   ]
  },
  {
   "cell_type": "code",
   "execution_count": 11,
   "metadata": {},
   "outputs": [
    {
     "data": {
      "text/plain": [
       "array([[ 4,  6],\n",
       "       [ 8, 10],\n",
       "       [10, 12]])"
      ]
     },
     "execution_count": 11,
     "metadata": {},
     "output_type": "execute_result"
    }
   ],
   "source": [
    "a + a"
   ]
  },
  {
   "cell_type": "code",
   "execution_count": 5,
   "metadata": {},
   "outputs": [
    {
     "ename": "NameError",
     "evalue": "name 'a' is not defined",
     "output_type": "error",
     "traceback": [
      "\u001b[0;31m---------------------------------------------------------------------------\u001b[0m",
      "\u001b[0;31mNameError\u001b[0m                                 Traceback (most recent call last)",
      "\u001b[0;32m<ipython-input-5-3f786850e387>\u001b[0m in \u001b[0;36m<module>\u001b[0;34m\u001b[0m\n\u001b[0;32m----> 1\u001b[0;31m \u001b[0ma\u001b[0m\u001b[0;34m\u001b[0m\u001b[0;34m\u001b[0m\u001b[0m\n\u001b[0m",
      "\u001b[0;31mNameError\u001b[0m: name 'a' is not defined"
     ]
    }
   ],
   "source": [
    "a"
   ]
  },
  {
   "cell_type": "code",
   "execution_count": 6,
   "metadata": {},
   "outputs": [],
   "source": [
    "a = np.array([2,3,4])"
   ]
  },
  {
   "cell_type": "code",
   "execution_count": 16,
   "metadata": {},
   "outputs": [],
   "source": [
    "def fff(ar):\n",
    "    np.add(ar, 1, out = ar)\n",
    "    return ar"
   ]
  },
  {
   "cell_type": "code",
   "execution_count": 17,
   "metadata": {},
   "outputs": [
    {
     "data": {
      "text/plain": [
       "array([3, 4, 5])"
      ]
     },
     "execution_count": 17,
     "metadata": {},
     "output_type": "execute_result"
    }
   ],
   "source": [
    "fff(a)"
   ]
  },
  {
   "cell_type": "code",
   "execution_count": 18,
   "metadata": {},
   "outputs": [
    {
     "data": {
      "text/plain": [
       "array([3, 4, 5])"
      ]
     },
     "execution_count": 18,
     "metadata": {},
     "output_type": "execute_result"
    }
   ],
   "source": [
    "a"
   ]
  },
  {
   "cell_type": "code",
   "execution_count": null,
   "metadata": {},
   "outputs": [],
   "source": []
  }
 ],
 "metadata": {
  "kernelspec": {
   "display_name": "Python 3 (ipykernel)",
   "language": "python",
   "name": "python3"
  },
  "language_info": {
   "codemirror_mode": {
    "name": "ipython",
    "version": 3
   },
   "file_extension": ".py",
   "mimetype": "text/x-python",
   "name": "python",
   "nbconvert_exporter": "python",
   "pygments_lexer": "ipython3",
   "version": "3.7.6"
  }
 },
 "nbformat": 4,
 "nbformat_minor": 4
}
